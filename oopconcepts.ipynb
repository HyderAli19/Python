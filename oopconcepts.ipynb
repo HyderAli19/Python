{
 "cells": [
  {
   "cell_type": "code",
   "execution_count": 4,
   "id": "1ad1c66b",
   "metadata": {},
   "outputs": [
    {
     "name": "stdout",
     "output_type": "stream",
     "text": [
      "my self hyder\n"
     ]
    },
    {
     "ename": "AttributeError",
     "evalue": "'Person' object has no attribute 'display'",
     "output_type": "error",
     "traceback": [
      "\u001b[1;31m---------------------------------------------------------------------------\u001b[0m",
      "\u001b[1;31mAttributeError\u001b[0m                            Traceback (most recent call last)",
      "Cell \u001b[1;32mIn[4], line 14\u001b[0m\n\u001b[0;32m     12\u001b[0m a\u001b[38;5;241m.\u001b[39mname\u001b[38;5;241m=\u001b[39m\u001b[38;5;124m\"\u001b[39m\u001b[38;5;124mali\u001b[39m\u001b[38;5;124m\"\u001b[39m\n\u001b[0;32m     13\u001b[0m a\u001b[38;5;241m.\u001b[39mocc\u001b[38;5;241m=\u001b[39m\u001b[38;5;124m\"\u001b[39m\u001b[38;5;124muff\u001b[39m\u001b[38;5;124m\"\u001b[39m\n\u001b[1;32m---> 14\u001b[0m \u001b[43ma\u001b[49m\u001b[38;5;241;43m.\u001b[39;49m\u001b[43mdisplay\u001b[49m()\n",
      "\u001b[1;31mAttributeError\u001b[0m: 'Person' object has no attribute 'display'"
     ]
    }
   ],
   "source": [
    "#constructors is a special method in a class used to assign and initilaize values of a boject and class\n",
    "#syntax:=\n",
    "    #def __init__():\n",
    "        #constructors statements...\n",
    "\n",
    "class Person():\n",
    "    def __init__(self):\n",
    "        print(\"my self hyder\")\n",
    "    def dispaly(self):\n",
    "        print(f\"{self.name} is a {self.occ}\")\n",
    "a = Person()\n",
    "a.name=\"ali\"\n",
    "a.occ=\"uff\"\n",
    "a.display()"
   ]
  },
  {
   "cell_type": "code",
   "execution_count": 10,
   "id": "5cab805c",
   "metadata": {},
   "outputs": [
    {
     "ename": "NameError",
     "evalue": "name 'Students' is not defined",
     "output_type": "error",
     "traceback": [
      "\u001b[1;31m---------------------------------------------------------------------------\u001b[0m",
      "\u001b[1;31mNameError\u001b[0m                                 Traceback (most recent call last)",
      "Cell \u001b[1;32mIn[10], line 6\u001b[0m\n\u001b[0;32m      4\u001b[0m         age\u001b[38;5;241m=\u001b[39m\u001b[38;5;241m12\u001b[39m\n\u001b[0;32m      5\u001b[0m         occ\u001b[38;5;241m=\u001b[39m\u001b[38;5;124m\"\u001b[39m\u001b[38;5;124mqsd\u001b[39m\u001b[38;5;124m\"\u001b[39m\n\u001b[1;32m----> 6\u001b[0m obj\u001b[38;5;241m=\u001b[39m\u001b[43mStudents\u001b[49m()\n\u001b[0;32m      7\u001b[0m obj\u001b[38;5;241m.\u001b[39mname\n\u001b[0;32m      8\u001b[0m obj\u001b[38;5;241m.\u001b[39mage\n",
      "\u001b[1;31mNameError\u001b[0m: name 'Students' is not defined"
     ]
    }
   ],
   "source": [
    "class Student:\n",
    "    def  details():\n",
    "        name=\"hyder\"\n",
    "        age=12\n",
    "        occ=\"qsd\"\n",
    "obj=Students()\n",
    "obj.name\n",
    "obj.age\n",
    "obj.occ\n",
    "print(Student)"
   ]
  },
  {
   "cell_type": "code",
   "execution_count": 13,
   "id": "11ed9e2d",
   "metadata": {},
   "outputs": [
    {
     "name": "stdout",
     "output_type": "stream",
     "text": [
      "i am loki\n"
     ]
    },
    {
     "ename": "TypeError",
     "evalue": "Human.about() missing 2 required positional arguments: 'n' and 'o'",
     "output_type": "error",
     "traceback": [
      "\u001b[1;31m---------------------------------------------------------------------------\u001b[0m",
      "\u001b[1;31mTypeError\u001b[0m                                 Traceback (most recent call last)",
      "Cell \u001b[1;32mIn[13], line 10\u001b[0m\n\u001b[0;32m      8\u001b[0m tom\u001b[38;5;241m.\u001b[39mname\u001b[38;5;241m=\u001b[39m\u001b[38;5;124m\"\u001b[39m\u001b[38;5;124mloki\u001b[39m\u001b[38;5;124m\"\u001b[39m\n\u001b[0;32m      9\u001b[0m tom\u001b[38;5;241m.\u001b[39mocc\u001b[38;5;241m=\u001b[39m\u001b[38;5;124m\"\u001b[39m\u001b[38;5;124mgod\u001b[39m\u001b[38;5;124m\"\u001b[39m\n\u001b[1;32m---> 10\u001b[0m \u001b[43mtom\u001b[49m\u001b[38;5;241;43m.\u001b[39;49m\u001b[43mabout\u001b[49m\u001b[43m(\u001b[49m\u001b[43m)\u001b[49m\n",
      "\u001b[1;31mTypeError\u001b[0m: Human.about() missing 2 required positional arguments: 'n' and 'o'"
     ]
    }
   ],
   "source": [
    "class Human:\n",
    "    def __init__(self):\n",
    "        print(\"i am loki\")\n",
    "    def about(self,n,o):\n",
    "        self.name=n\n",
    "        self.occ=o\n",
    "tom=Human()\n",
    "tom.name=\"loki\"\n",
    "tom.occ=\"god\"\n",
    "tom.about()\n",
    "        \n",
    "       "
   ]
  },
  {
   "cell_type": "code",
   "execution_count": 20,
   "id": "443a560d",
   "metadata": {
    "scrolled": true
   },
   "outputs": [
    {
     "name": "stdout",
     "output_type": "stream",
     "text": [
      "shaik sdf\n"
     ]
    }
   ],
   "source": [
    "class Human:\n",
    "    def __init__(self,fname,lname,salary):\n",
    "        self.fname=fname\n",
    "        self.lname=lname\n",
    "        self.salary=salary\n",
    "hyder=Human('shaik','ali',23456)\n",
    "rahul=Human('sdf','fsadg',3245)\n",
    "print(hyder.fname,rahul.fname)"
   ]
  },
  {
   "cell_type": "code",
   "execution_count": 23,
   "id": "dee1e1a2",
   "metadata": {},
   "outputs": [
    {
     "name": "stdout",
     "output_type": "stream",
     "text": [
      "{'fname': 'hyder', 'lname': 'shaik', 'salary': 787678}\n",
      "{'fname': 'ali', 'lname': 'shaik', 'salary': 324525}\n"
     ]
    }
   ],
   "source": [
    "class Employee:\n",
    "    \n",
    "    def __init__(self,fname,lname,salary):\n",
    "        self.fname=fname\n",
    "        self.lname=lname\n",
    "        self.salary=salary\n",
    "emp=Employee('hyder','shaik',787678)\n",
    "emp2=Employee('ali','shaik',324525)\n",
    "emp3=Employee('shaik','akhil',4352345)\n",
    "print(emp.__dict__)\n",
    "print(emp2.__dict__)"
   ]
  },
  {
   "cell_type": "code",
   "execution_count": 33,
   "id": "16080c29",
   "metadata": {
    "scrolled": true
   },
   "outputs": [
    {
     "ename": "SyntaxError",
     "evalue": "invalid syntax (2102538488.py, line 3)",
     "output_type": "error",
     "traceback": [
      "\u001b[1;36m  Cell \u001b[1;32mIn[33], line 3\u001b[1;36m\u001b[0m\n\u001b[1;33m    no of employee=0\u001b[0m\n\u001b[1;37m       ^\u001b[0m\n\u001b[1;31mSyntaxError\u001b[0m\u001b[1;31m:\u001b[0m invalid syntax\n"
     ]
    }
   ],
   "source": [
    "class Employee:\n",
    "    increment=10\n",
    "    no of employee=0\n",
    "    def __init__(self,fname,lname,age,salary):\n",
    "        self.fname=fname\n",
    "        self.lname=lname\n",
    "        self.age=age\n",
    "        Employee.no of employee +=1\n",
    "        self.salary=salary\n",
    "    def increse():\n",
    "        self.salry=self.salary*self.increment\n",
    "emp1=Employee('hyder','shaik',21,60000)\n",
    "emp2=Employee('ali','shaik',22,40000)\n",
    "emp3=Employee('harry','hus',33,25000)\n",
    "emp4=Employee('ranveer','padkune',33,60000)\n",
    "prnt(Employee.no of employee)\n",
    "print(emp1.__dict__)\n",
    "print(emp2.__dict__)\n",
    "print(emp3.__dict__)\n",
    "print(emp4.__dict__)"
   ]
  },
  {
   "cell_type": "code",
   "execution_count": 38,
   "id": "fee6b112",
   "metadata": {},
   "outputs": [
    {
     "name": "stdout",
     "output_type": "stream",
     "text": [
      "1\n",
      "{'fname': 'hyder', 'lname': 'shaik', 'age': 21, 'salary': 20000}\n",
      "{'fname': 'ali', 'lname': 'shail', 'age': 33, 'salary': 40000}\n",
      "1\n",
      "{'fname': 'israr', 'lname': 'hakeem', 'age': 8, 'salary': 50000}\n",
      "1\n"
     ]
    }
   ],
   "source": [
    "class Employee:\n",
    "    increment=10\n",
    "    no_of_employee= 0\n",
    "    def __init__(self,fname,lname,age,salary):\n",
    "        self.fname=fname\n",
    "        self.lname=lname\n",
    "        self.age=age\n",
    "        self.salary=salary\n",
    "        Employee.no_of_employee=+1\n",
    "    def increment():\n",
    "        self.salary=self.salary*selaf.increment\n",
    "emp1=Employee('hyder','shaik',21,20000)\n",
    "emp2=Employee('ali','shail',33,40000)\n",
    "emp3=Employee('israr','hakeem',8,50000)\n",
    "print(Employee.no_of_employee)\n",
    "print(emp1.__dict__)\n",
    "print(emp2.__dict__)\n",
    "print(Employee.no_of_employee)\n",
    "print(emp3.__dict__)\n",
    "print(Employee.no_of_employee)"
   ]
  },
  {
   "cell_type": "code",
   "execution_count": 39,
   "id": "54bdca72",
   "metadata": {},
   "outputs": [
    {
     "name": "stdout",
     "output_type": "stream",
     "text": [
      "3\n",
      "{'fname': 'hyder', 'lname': 'shaik', 'age': 21, 'salary': 20000}\n",
      "{'fname': 'ali', 'lname': 'shail', 'age': 33, 'salary': 40000}\n",
      "3\n",
      "{'fname': 'israr', 'lname': 'hakeem', 'age': 8, 'salary': 50000}\n",
      "3\n"
     ]
    }
   ],
   "source": [
    "class Employee:\n",
    "    increment=10\n",
    "    no_of_employee= 0\n",
    "    def __init__(self,fname,lname,age,salary):\n",
    "        self.fname=fname\n",
    "        self.lname=lname\n",
    "        self.age=age\n",
    "        self.salary=salary\n",
    "        Employee.no_of_employee+=1\n",
    "    def increment():\n",
    "        self.salary=self.salary*selaf.increment\n",
    "print(Employee.no_of_employee)\n",
    "emp1=Employee('hyder','shaik',21,20000)\n",
    "emp2=Employee('ali','shail',33,40000)\n",
    "emp3=Employee('israr','hakeem',8,50000)\n",
    "print(Employee.no_of_employee)\n",
    "print(emp1.__dict__)\n",
    "print(emp2.__dict__)\n",
    "print(Employee.no_of_employee)\n",
    "print(emp3.__dict__)\n",
    "print(Employee.no_of_employee)"
   ]
  },
  {
   "cell_type": "code",
   "execution_count": 40,
   "id": "779e8e69",
   "metadata": {},
   "outputs": [
    {
     "name": "stdout",
     "output_type": "stream",
     "text": [
      "0\n",
      "3\n",
      "{'fname': 'hyder', 'lname': 'shaik', 'age': 21, 'salary': 20000}\n",
      "{'fname': 'ali', 'lname': 'shail', 'age': 33, 'salary': 40000}\n",
      "3\n",
      "{'fname': 'israr', 'lname': 'hakeem', 'age': 8, 'salary': 50000}\n",
      "3\n"
     ]
    }
   ],
   "source": [
    "class Employee:\n",
    "    increment=10\n",
    "    no_of_employee= 0\n",
    "    def __init__(self,fname,lname,age,salary):\n",
    "        self.fname=fname\n",
    "        self.lname=lname\n",
    "        self.age=age\n",
    "        self.salary=salary\n",
    "        Employee.no_of_employee+=1\n",
    "    def increment():\n",
    "        self.salary=self.salary*selaf.increment\n",
    "print(Employee.no_of_employee)\n",
    "emp1=Employee('hyder','shaik',21,20000)\n",
    "emp2=Employee('ali','shail',33,40000)\n",
    "emp3=Employee('israr','hakeem',8,50000)\n",
    "print(Employee.no_of_employee)\n",
    "print(emp1.__dict__)\n",
    "print(emp2.__dict__)\n",
    "print(Employee.no_of_employee)\n",
    "print(emp3.__dict__)\n",
    "print(Employee.no_of_employee)"
   ]
  },
  {
   "cell_type": "code",
   "execution_count": 41,
   "id": "b3399af2",
   "metadata": {},
   "outputs": [
    {
     "name": "stdout",
     "output_type": "stream",
     "text": [
      "0\n",
      "1\n",
      "2\n",
      "3\n",
      "{'fname': 'hyder', 'lname': 'shaik', 'age': 21, 'salary': 20000}\n",
      "{'fname': 'ali', 'lname': 'shail', 'age': 33, 'salary': 40000}\n",
      "{'fname': 'israr', 'lname': 'hakeem', 'age': 8, 'salary': 50000}\n"
     ]
    }
   ],
   "source": [
    "class Employee:  #class name\n",
    "    increment=10\n",
    "    no_of_employee= 0\n",
    "    def __init__(self,fname,lname,age,salary):\n",
    "        self.fname=fname\n",
    "        self.lname=lname                            #constructor part\n",
    "        self.age=age\n",
    "        self.salary=salary\n",
    "        Employee.no_of_employee+=1\n",
    "    def increment():\n",
    "        self.salary=self.salary*selaf.increment\n",
    "print(Employee.no_of_employee)\n",
    "emp1=Employee('hyder','shaik',21,20000)  #emp1=object name\n",
    "print(Employee.no_of_employee)\n",
    "emp2=Employee('ali','shail',33,40000)\n",
    "print(Employee.no_of_employee)\n",
    "emp3=Employee('israr','hakeem',8,50000)\n",
    "print(Employee.no_of_employee)\n",
    "print(emp1.__dict__)\n",
    "print(emp2.__dict__)\n",
    "print(emp3.__dict__)\n"
   ]
  },
  {
   "cell_type": "code",
   "execution_count": null,
   "id": "c0093eb2",
   "metadata": {},
   "outputs": [],
   "source": []
  }
 ],
 "metadata": {
  "kernelspec": {
   "display_name": "Python 3 (ipykernel)",
   "language": "python",
   "name": "python3"
  },
  "language_info": {
   "codemirror_mode": {
    "name": "ipython",
    "version": 3
   },
   "file_extension": ".py",
   "mimetype": "text/x-python",
   "name": "python",
   "nbconvert_exporter": "python",
   "pygments_lexer": "ipython3",
   "version": "3.10.10"
  }
 },
 "nbformat": 4,
 "nbformat_minor": 5
}
