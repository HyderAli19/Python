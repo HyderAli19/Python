{
 "cells": [
  {
   "cell_type": "code",
   "execution_count": 3,
   "id": "70d473e9",
   "metadata": {},
   "outputs": [
    {
     "name": "stdout",
     "output_type": "stream",
     "text": [
      "{'name': 'abc', 'age': 26, 'salary': 50000}\n"
     ]
    }
   ],
   "source": [
    "#TYPES OF INGERTITANCE\n",
    "#1 SINGLE INGERTITANCE\n",
    "\n",
    "class Employee:  #one class...\n",
    "    def __init__(self):\n",
    "        self.name=\"abc\"\n",
    "        self.age=26\n",
    "        self.salary=50000\n",
    "emp1=Employee()\n",
    "print(emp1.__dict__)"
   ]
  },
  {
   "cell_type": "code",
   "execution_count": 8,
   "id": "adb7d342",
   "metadata": {},
   "outputs": [
    {
     "name": "stdout",
     "output_type": "stream",
     "text": [
      "The lion Animal is a very species in the family\n",
      "The horse Animal is a very species in the family\n",
      "{'name': 'piegion', 'species': 'flying', 'price': 1000, 'present': '50'}\n",
      "The piegion Animal is a very species in the family\n"
     ]
    }
   ],
   "source": [
    "# MULTIPLE INHERITANCE\n",
    "\n",
    "class Animal:                                            #class 1\n",
    "    def __init__(self,name,species,price):\n",
    "        self.name=name\n",
    "        self.species=species\n",
    "        self.price=price\n",
    "    def show(self):\n",
    "        print(f\"The {self.name} Animal is a very species in the family\")\n",
    "class Bird(Animal):                                                        #class2\n",
    "    def __init__(self,name,species,price,present):\n",
    "        super().__init__(name,species,price)\n",
    "        self.present= present\n",
    "ani1=Animal('lion','carniore',20000)\n",
    "ani2=Animal('horse','omniore',60000)\n",
    "ani1.show()\n",
    "ani2.show()\n",
    "ani3=Bird('piegion','flying',1000,'50')\n",
    "print(ani3.__dict__)\n",
    "ani3.show()\n",
    "\n",
    "        "
   ]
  },
  {
   "cell_type": "code",
   "execution_count": 5,
   "id": "41a7ba46",
   "metadata": {},
   "outputs": [
    {
     "ename": "TypeError",
     "evalue": "Power.__init__() missing 1 required positional argument: 'pet'",
     "output_type": "error",
     "traceback": [
      "\u001b[1;31m---------------------------------------------------------------------------\u001b[0m",
      "\u001b[1;31mTypeError\u001b[0m                                 Traceback (most recent call last)",
      "Cell \u001b[1;32mIn[5], line 19\u001b[0m\n\u001b[0;32m     17\u001b[0m char2\u001b[38;5;241m=\u001b[39mFreefire(\u001b[38;5;124m'\u001b[39m\u001b[38;5;124mWOUKONG\u001b[39m\u001b[38;5;124m'\u001b[39m,\u001b[38;5;241m200\u001b[39m)\n\u001b[0;32m     18\u001b[0m char3\u001b[38;5;241m=\u001b[39mFreefire(\u001b[38;5;124m'\u001b[39m\u001b[38;5;124mKELLY\u001b[39m\u001b[38;5;124m'\u001b[39m,\u001b[38;5;241m200\u001b[39m)\n\u001b[1;32m---> 19\u001b[0m char4\u001b[38;5;241m=\u001b[39m\u001b[43mPower\u001b[49m\u001b[43m(\u001b[49m\u001b[38;5;124;43m'\u001b[39;49m\u001b[38;5;124;43mRONALDO\u001b[39;49m\u001b[38;5;124;43m'\u001b[39;49m\u001b[43m,\u001b[49m\u001b[38;5;241;43m200\u001b[39;49m\u001b[43m,\u001b[49m\u001b[38;5;124;43m'\u001b[39;49m\u001b[38;5;124;43mSHARP ACCURACY\u001b[39;49m\u001b[38;5;124;43m'\u001b[39;49m\u001b[43m)\u001b[49m\n\u001b[0;32m     20\u001b[0m char5\u001b[38;5;241m=\u001b[39mPower(\u001b[38;5;124m'\u001b[39m\u001b[38;5;124mMARTIN\u001b[39m\u001b[38;5;124m'\u001b[39m,\u001b[38;5;241m200\u001b[39m,\u001b[38;5;124m'\u001b[39m\u001b[38;5;124mFAST HEAL\u001b[39m\u001b[38;5;124m'\u001b[39m)\n\u001b[0;32m     21\u001b[0m char4\u001b[38;5;241m.\u001b[39mshow()\n",
      "\u001b[1;31mTypeError\u001b[0m: Power.__init__() missing 1 required positional argument: 'pet'"
     ]
    }
   ],
   "source": [
    "class Freefire:\n",
    "    def __init__(self,cname,health):\n",
    "        self.cname=cname\n",
    "        self.health=health\n",
    "class Power(Freefire):\n",
    "    def __init__(self,cname,health,skills,pet):\n",
    "        super().__init__(cname,health)\n",
    "        self.skills=skills\n",
    "        self.pet=pet\n",
    "    def show(self):\n",
    "        print(f\"{self.cname} is the most powerful character in the Game\")\n",
    "        print(f\"200 is the minimum health of each char\")\n",
    "        \n",
    "    def show(self):\n",
    "        print(f\"the {self.pet} in each character is unique\")\n",
    "char1=Freefire('ALOK',200)\n",
    "char2=Freefire('WOUKONG',200)\n",
    "char3=Freefire('KELLY',200)\n",
    "char4=Power('RONALDO',200,'SHARP ACCURACY')\n",
    "char5=Power('MARTIN',200,'FAST HEAL')\n",
    "char4.show()\n",
    "char5.show()\n",
    "char4.Power('EAGLE')\n",
    "char4.show()\n",
    "\n",
    "    "
   ]
  },
  {
   "cell_type": "code",
   "execution_count": 10,
   "id": "e91f8fc0",
   "metadata": {},
   "outputs": [
    {
     "name": "stdout",
     "output_type": "stream",
     "text": [
      "RONALDO is the most powerful character in the Game\n",
      "200 is the minimum health of each char\n",
      "MARTIN is the most powerful character in the Game\n",
      "200 is the minimum health of each char\n",
      "The EAGLE has unique power for each character\n",
      "The PANDA has unique power for each character\n",
      "The FOX has unique power for each character\n"
     ]
    }
   ],
   "source": [
    "class Freefire:\n",
    "    def __init__(self,cname,health):\n",
    "        self.cname=cname\n",
    "        self.health=health\n",
    "class Power(Freefire):\n",
    "    def __init__(self,cname,health,skills,pet):\n",
    "        super().__init__(cname,health)\n",
    "        self.skills=skills\n",
    "        self.pet=pet\n",
    "    def show1(self):\n",
    "        print(f\"{self.cname} is the most powerful character in the Game\")\n",
    "        print(f\"200 is the minimum health of each char\")\n",
    "        \n",
    "    def show2(self):\n",
    "        print(f\"The {self.pet} has unique power for each character\")\n",
    "char1=Freefire('ALOK',200)\n",
    "char3=Freefire('KELLY',200)\n",
    "char4=Power('RONALDO',200,'SHARP ACCURACY','EAGLE')\n",
    "char5=Power('MARTIN',200,'FAST HEAL','PANDA')\n",
    "char4.show1()\n",
    "char5.show1()\n",
    "char4.show2()\n",
    "char5.show2()\n",
    "char2=Power('WOUKONG',200,'GRASS SHEILD','FOX')\n",
    "char2.show2()\n"
   ]
  },
  {
   "cell_type": "code",
   "execution_count": 13,
   "id": "6df0a866",
   "metadata": {},
   "outputs": [
    {
     "name": "stdout",
     "output_type": "stream",
     "text": [
      "RONALDO is the most powerful character in the Game\n",
      "200 is the minimum health of each char\n",
      "MARTIN is the most powerful character in the Game\n",
      "200 is the minimum health of each char\n",
      "The EAGLE has unique power for each character\n",
      "The PANDA has unique power for each character\n",
      "The FOX has unique power for each character\n"
     ]
    },
    {
     "ename": "AttributeError",
     "evalue": "'Ranking' object has no attribute 'rank'",
     "output_type": "error",
     "traceback": [
      "\u001b[1;31m---------------------------------------------------------------------------\u001b[0m",
      "\u001b[1;31mAttributeError\u001b[0m                            Traceback (most recent call last)",
      "Cell \u001b[1;32mIn[13], line 34\u001b[0m\n\u001b[0;32m     32\u001b[0m char2\u001b[38;5;241m.\u001b[39mshow2()\n\u001b[0;32m     33\u001b[0m char6\u001b[38;5;241m=\u001b[39mRanking(\u001b[38;5;124m'\u001b[39m\u001b[38;5;124mRAFEL\u001b[39m\u001b[38;5;124m'\u001b[39m,\u001b[38;5;241m200\u001b[39m,\u001b[38;5;124m'\u001b[39m\u001b[38;5;124mHEAL RING\u001b[39m\u001b[38;5;124m'\u001b[39m,\u001b[38;5;124m'\u001b[39m\u001b[38;5;124mMONKEY\u001b[39m\u001b[38;5;124m'\u001b[39m,\u001b[38;5;241m5\u001b[39m)\n\u001b[1;32m---> 34\u001b[0m \u001b[43mchar6\u001b[49m\u001b[38;5;241;43m.\u001b[39;49m\u001b[43mshow3\u001b[49m\u001b[43m(\u001b[49m\u001b[43m)\u001b[49m\n",
      "Cell \u001b[1;32mIn[13], line 21\u001b[0m, in \u001b[0;36mRanking.show3\u001b[1;34m(self)\u001b[0m\n\u001b[0;32m     20\u001b[0m \u001b[38;5;28;01mdef\u001b[39;00m \u001b[38;5;21mshow3\u001b[39m(\u001b[38;5;28mself\u001b[39m):\n\u001b[1;32m---> 21\u001b[0m     \u001b[38;5;28mprint\u001b[39m(\u001b[38;5;124mf\u001b[39m\u001b[38;5;124m\"\u001b[39m\u001b[38;5;124mThe rank of the \u001b[39m\u001b[38;5;132;01m{\u001b[39;00m\u001b[38;5;28mself\u001b[39m\u001b[38;5;241m.\u001b[39mcname\u001b[38;5;132;01m}\u001b[39;00m\u001b[38;5;124m is the \u001b[39m\u001b[38;5;132;01m{\u001b[39;00m\u001b[38;5;28;43mself\u001b[39;49m\u001b[38;5;241;43m.\u001b[39;49m\u001b[43mrank\u001b[49m\u001b[38;5;132;01m}\u001b[39;00m\u001b[38;5;124m\"\u001b[39m)\n",
      "\u001b[1;31mAttributeError\u001b[0m: 'Ranking' object has no attribute 'rank'"
     ]
    }
   ],
   "source": [
    "class Freefire:\n",
    "    def __init__(self,cname,health):\n",
    "        self.cname=cname\n",
    "        self.health=health\n",
    "class Power(Freefire):\n",
    "    def __init__(self,cname,health,skills,pet):\n",
    "        super().__init__(cname,health)\n",
    "        self.skills=skills\n",
    "        self.pet=pet\n",
    "    def show1(self):\n",
    "        print(f\"{self.cname} is the most powerful character in the Game\")\n",
    "        print(f\"200 is the minimum health of each char\")\n",
    "        \n",
    "    def show2(self):\n",
    "        print(f\"The {self.pet} has unique power for each character\")\n",
    "class Ranking(Power):\n",
    "    def __init__(self,cname,health,skills,pet,ranks):\n",
    "        super().__init__(cname,health,skills,pet)\n",
    "        self.ranks=ranks\n",
    "    def show3(self):\n",
    "        print(f\"The rank of the {self.cname} is the {self.rank}\")\n",
    "        \n",
    "char1=Freefire('ALOK',200)\n",
    "char3=Freefire('KELLY',200)\n",
    "char4=Power('RONALDO',200,'SHARP ACCURACY','EAGLE')\n",
    "char5=Power('MARTIN',200,'FAST HEAL','PANDA')\n",
    "char4.show1()\n",
    "char5.show1()\n",
    "char4.show2()\n",
    "char5.show2()\n",
    "char2=Power('WOUKONG',200,'GRASS SHEILD','FOX')\n",
    "char2.show2()\n",
    "char6=Ranking('RAFEL',200,'HEAL RING','MONKEY',5)\n",
    "char6.show3()"
   ]
  },
  {
   "cell_type": "code",
   "execution_count": 14,
   "id": "ac40f5d9",
   "metadata": {},
   "outputs": [
    {
     "name": "stdout",
     "output_type": "stream",
     "text": [
      "RONALDO is the most powerful character in the Game\n",
      "200 is the minimum health of each char\n",
      "MARTIN is the most powerful character in the Game\n",
      "200 is the minimum health of each char\n",
      "The EAGLE has unique power for each character\n",
      "The PANDA has unique power for each character\n",
      "The FOX has unique power for each character\n",
      "The rank of the RAFEL is the 5\n"
     ]
    }
   ],
   "source": [
    "class Freefire:\n",
    "    def __init__(self,cname,health):\n",
    "        self.cname=cname\n",
    "        self.health=health\n",
    "class Power(Freefire):\n",
    "    def __init__(self,cname,health,skills,pet):\n",
    "        super().__init__(cname,health)\n",
    "        self.skills=skills\n",
    "        self.pet=pet\n",
    "    def show1(self):\n",
    "        print(f\"{self.cname} is the most powerful character in the Game\")\n",
    "        print(f\"200 is the minimum health of each char\")\n",
    "        \n",
    "    def show2(self):\n",
    "        print(f\"The {self.pet} has unique power for each character\")\n",
    "class Ranking(Power):\n",
    "    def __init__(self,cname,health,skills,pet,ranks):\n",
    "        super().__init__(cname,health,skills,pet)\n",
    "        self.ranks=ranks\n",
    "    def show3(self):\n",
    "        print(f\"The rank of the {self.cname} is the {self.ranks}\")\n",
    "        \n",
    "char1=Freefire('ALOK',200)\n",
    "char3=Freefire('KELLY',200)\n",
    "char4=Power('RONALDO',200,'SHARP ACCURACY','EAGLE')\n",
    "char5=Power('MARTIN',200,'FAST HEAL','PANDA')\n",
    "char4.show1()\n",
    "char5.show1()\n",
    "char4.show2()\n",
    "char5.show2()\n",
    "char2=Power('WOUKONG',200,'GRASS SHEILD','FOX')\n",
    "char2.show2()\n",
    "char6=Ranking('RAFEL',200,'HEAL RING','MONKEY',5)\n",
    "char6.show3()"
   ]
  },
  {
   "cell_type": "code",
   "execution_count": null,
   "id": "0e9effcf",
   "metadata": {},
   "outputs": [],
   "source": []
  }
 ],
 "metadata": {
  "kernelspec": {
   "display_name": "Python 3 (ipykernel)",
   "language": "python",
   "name": "python3"
  },
  "language_info": {
   "codemirror_mode": {
    "name": "ipython",
    "version": 3
   },
   "file_extension": ".py",
   "mimetype": "text/x-python",
   "name": "python",
   "nbconvert_exporter": "python",
   "pygments_lexer": "ipython3",
   "version": "3.10.10"
  }
 },
 "nbformat": 4,
 "nbformat_minor": 5
}
