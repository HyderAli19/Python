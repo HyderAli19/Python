{
 "cells": [
  {
   "cell_type": "code",
   "execution_count": 1,
   "id": "47a19544",
   "metadata": {},
   "outputs": [
    {
     "ename": "SyntaxError",
     "evalue": "unterminated string literal (detected at line 7) (2912009547.py, line 7)",
     "output_type": "error",
     "traceback": [
      "\u001b[1;36m  Cell \u001b[1;32mIn[1], line 7\u001b[1;36m\u001b[0m\n\u001b[1;33m    print(f\"the {self.fname} belongs to {self.company})\u001b[0m\n\u001b[1;37m          ^\u001b[0m\n\u001b[1;31mSyntaxError\u001b[0m\u001b[1;31m:\u001b[0m unterminated string literal (detected at line 7)\n"
     ]
    }
   ],
   "source": [
    "# CLASS METHODS ARE WAY TO DEFINE DATA TYPES THAT CAN STORE AND MANIPULATE DATA FROM ANY INSTANCE AND METHOD VARIABLES\n",
    "class Employee:\n",
    "    company=\"samsung\"\n",
    "    def __init__(self,fname,lname):\n",
    "        self.fame=name\n",
    "        self.lname=lname\n",
    "    def show():\n",
    "        print(f\"the {self.fname} belongs to {self.company})\n",
    "    def changecom(self,company):\n",
    "              self.company=company\n",
    "emp1=Employee('hyder','ali')\n",
    "ep1.show()"
   ]
  },
  {
   "cell_type": "code",
   "execution_count": 2,
   "id": "0f878690",
   "metadata": {},
   "outputs": [
    {
     "ename": "NameError",
     "evalue": "name 'name' is not defined",
     "output_type": "error",
     "traceback": [
      "\u001b[1;31m---------------------------------------------------------------------------\u001b[0m",
      "\u001b[1;31mNameError\u001b[0m                                 Traceback (most recent call last)",
      "Cell \u001b[1;32mIn[2], line 10\u001b[0m\n\u001b[0;32m      8\u001b[0m     \u001b[38;5;28;01mdef\u001b[39;00m \u001b[38;5;21mchangecom\u001b[39m(\u001b[38;5;28mself\u001b[39m,company):\n\u001b[0;32m      9\u001b[0m               \u001b[38;5;28mself\u001b[39m\u001b[38;5;241m.\u001b[39mcompany\u001b[38;5;241m=\u001b[39mcompany\n\u001b[1;32m---> 10\u001b[0m emp1\u001b[38;5;241m=\u001b[39m\u001b[43mEmployee\u001b[49m\u001b[43m(\u001b[49m\u001b[38;5;124;43m'\u001b[39;49m\u001b[38;5;124;43mhyder\u001b[39;49m\u001b[38;5;124;43m'\u001b[39;49m\u001b[43m,\u001b[49m\u001b[38;5;124;43m'\u001b[39;49m\u001b[38;5;124;43mali\u001b[39;49m\u001b[38;5;124;43m'\u001b[39;49m\u001b[43m)\u001b[49m\n\u001b[0;32m     11\u001b[0m ep1\u001b[38;5;241m.\u001b[39mshow()\n",
      "Cell \u001b[1;32mIn[2], line 4\u001b[0m, in \u001b[0;36mEmployee.__init__\u001b[1;34m(self, fname, lname)\u001b[0m\n\u001b[0;32m      3\u001b[0m \u001b[38;5;28;01mdef\u001b[39;00m \u001b[38;5;21m__init__\u001b[39m(\u001b[38;5;28mself\u001b[39m,fname,lname):\n\u001b[1;32m----> 4\u001b[0m     \u001b[38;5;28mself\u001b[39m\u001b[38;5;241m.\u001b[39mfame\u001b[38;5;241m=\u001b[39m\u001b[43mname\u001b[49m\n\u001b[0;32m      5\u001b[0m     \u001b[38;5;28mself\u001b[39m\u001b[38;5;241m.\u001b[39mlname\u001b[38;5;241m=\u001b[39mlname\n",
      "\u001b[1;31mNameError\u001b[0m: name 'name' is not defined"
     ]
    }
   ],
   "source": [
    "class Employee:\n",
    "    company=\"samsung\"\n",
    "    def __init__(self,fname,lname):\n",
    "        self.fame=name\n",
    "        self.lname=lname\n",
    "    def show():\n",
    "        print(f\"the {self.fname} belongs to {self.company}\")\n",
    "    def changecom(self,company):\n",
    "              self.company=company\n",
    "emp1=Employee('hyder','ali')\n",
    "ep1.show()"
   ]
  },
  {
   "cell_type": "code",
   "execution_count": 4,
   "id": "85920254",
   "metadata": {},
   "outputs": [
    {
     "ename": "NameError",
     "evalue": "name 'name' is not defined",
     "output_type": "error",
     "traceback": [
      "\u001b[1;31m---------------------------------------------------------------------------\u001b[0m",
      "\u001b[1;31mNameError\u001b[0m                                 Traceback (most recent call last)",
      "Cell \u001b[1;32mIn[4], line 10\u001b[0m\n\u001b[0;32m      8\u001b[0m     \u001b[38;5;28;01mdef\u001b[39;00m \u001b[38;5;21mchangecom\u001b[39m(\u001b[38;5;28mself\u001b[39m,company):\n\u001b[0;32m      9\u001b[0m         \u001b[38;5;28mself\u001b[39m\u001b[38;5;241m.\u001b[39mcompany\u001b[38;5;241m=\u001b[39mcompany\n\u001b[1;32m---> 10\u001b[0m emp1\u001b[38;5;241m=\u001b[39m\u001b[43mEmployee\u001b[49m\u001b[43m(\u001b[49m\u001b[38;5;124;43m'\u001b[39;49m\u001b[38;5;124;43mhyder\u001b[39;49m\u001b[38;5;124;43m'\u001b[39;49m\u001b[43m,\u001b[49m\u001b[38;5;124;43m'\u001b[39;49m\u001b[38;5;124;43mali\u001b[39;49m\u001b[38;5;124;43m'\u001b[39;49m\u001b[43m)\u001b[49m\n\u001b[0;32m     11\u001b[0m ep1\u001b[38;5;241m.\u001b[39mshow()\n",
      "Cell \u001b[1;32mIn[4], line 4\u001b[0m, in \u001b[0;36mEmployee.__init__\u001b[1;34m(self, fname, lname)\u001b[0m\n\u001b[0;32m      3\u001b[0m \u001b[38;5;28;01mdef\u001b[39;00m \u001b[38;5;21m__init__\u001b[39m(\u001b[38;5;28mself\u001b[39m,fname,lname):\n\u001b[1;32m----> 4\u001b[0m     \u001b[38;5;28mself\u001b[39m\u001b[38;5;241m.\u001b[39mfname\u001b[38;5;241m=\u001b[39m\u001b[43mname\u001b[49m\n\u001b[0;32m      5\u001b[0m     \u001b[38;5;28mself\u001b[39m\u001b[38;5;241m.\u001b[39mlname\u001b[38;5;241m=\u001b[39mlname\n",
      "\u001b[1;31mNameError\u001b[0m: name 'name' is not defined"
     ]
    }
   ],
   "source": [
    "class Employee:\n",
    "    company=\"samsung\"\n",
    "    def __init__(self,fname,lname):\n",
    "        self.fname=name\n",
    "        self.lname=name\n",
    "    def show():\n",
    "        print(f\"the {self.fname} belongs to {self.company}\")\n",
    "    def changecom(self,company):\n",
    "        self.company=company\n",
    "emp1=Employee('hyder','ali')\n",
    "ep1.show()"
   ]
  },
  {
   "cell_type": "code",
   "execution_count": 21,
   "id": "e3b21090",
   "metadata": {},
   "outputs": [
    {
     "name": "stdout",
     "output_type": "stream",
     "text": [
      "{'fname': 'hyder', 'lname': 'ali'}\n",
      "{'__module__': '__main__', 'company': 'samsung', '__init__': <function Employee.__init__ at 0x000001CF8574A560>, 'show': <function Employee.show at 0x000001CF8574BC70>, 'changecom': <classmethod(<function Employee.changecom at 0x000001CF8574B520>)>, '__dict__': <attribute '__dict__' of 'Employee' objects>, '__weakref__': <attribute '__weakref__' of 'Employee' objects>, '__doc__': None}\n"
     ]
    },
    {
     "ename": "TypeError",
     "evalue": "Employee.show() takes 0 positional arguments but 1 was given",
     "output_type": "error",
     "traceback": [
      "\u001b[1;31m---------------------------------------------------------------------------\u001b[0m",
      "\u001b[1;31mTypeError\u001b[0m                                 Traceback (most recent call last)",
      "Cell \u001b[1;32mIn[21], line 14\u001b[0m\n\u001b[0;32m     12\u001b[0m \u001b[38;5;28mprint\u001b[39m(emp1\u001b[38;5;241m.\u001b[39m\u001b[38;5;18m__dict__\u001b[39m)\n\u001b[0;32m     13\u001b[0m \u001b[38;5;28mprint\u001b[39m(Employee\u001b[38;5;241m.\u001b[39m\u001b[38;5;18m__dict__\u001b[39m)\n\u001b[1;32m---> 14\u001b[0m \u001b[43memp1\u001b[49m\u001b[38;5;241;43m.\u001b[39;49m\u001b[43mshow\u001b[49m\u001b[43m(\u001b[49m\u001b[43m)\u001b[49m\n",
      "\u001b[1;31mTypeError\u001b[0m: Employee.show() takes 0 positional arguments but 1 was given"
     ]
    }
   ],
   "source": [
    "class Employee:\n",
    "    company=\"samsung\"\n",
    "    def __init__(self,fname,lname):\n",
    "        self.fname=fname\n",
    "        self.lname=lname\n",
    "    def show():\n",
    "        print(f\"the {self.fname} belongs to {self.company}\")\n",
    "    @classmethod\n",
    "    def changecom(cls,company):\n",
    "        cls.company='apple'\n",
    "emp1=Employee('hyder','ali')\n",
    "print(emp1.__dict__)\n",
    "print(Employee.__dict__)\n",
    "emp1.show()\n",
    "            "
   ]
  },
  {
   "cell_type": "code",
   "execution_count": 13,
   "id": "184b04fe",
   "metadata": {},
   "outputs": [
    {
     "name": "stdout",
     "output_type": "stream",
     "text": [
      "the hyder belongs to samsung company\n",
      "the hyder belongs to apple company\n",
      "samsung\n"
     ]
    }
   ],
   "source": [
    "class Employee:\n",
    "    company=\"samsung\"\n",
    "    def show(self):\n",
    "        print(f\"the {self.fname} belongs to {self.company} company\")\n",
    "    def changecom(self,company):\n",
    "        self.company=company\n",
    "ep1=Employee()\n",
    "ep1.fname=\"hyder\"\n",
    "ep1.show()\n",
    "ep1.changecom(\"apple\")\n",
    "ep1.show()\n",
    "print(Employee.company)"
   ]
  },
  {
   "cell_type": "code",
   "execution_count": 23,
   "id": "fbdce245",
   "metadata": {},
   "outputs": [
    {
     "ename": "NameError",
     "evalue": "name 'self' is not defined",
     "output_type": "error",
     "traceback": [
      "\u001b[1;31m---------------------------------------------------------------------------\u001b[0m",
      "\u001b[1;31mNameError\u001b[0m                                 Traceback (most recent call last)",
      "Cell \u001b[1;32mIn[23], line 11\u001b[0m\n\u001b[0;32m      9\u001b[0m stu1\u001b[38;5;241m.\u001b[39mfname\u001b[38;5;241m=\u001b[39m\u001b[38;5;124m\"\u001b[39m\u001b[38;5;124mramesh\u001b[39m\u001b[38;5;124m\"\u001b[39m\n\u001b[0;32m     10\u001b[0m stu1\u001b[38;5;241m.\u001b[39mrollno\u001b[38;5;241m=\u001b[39m\u001b[38;5;241m19\u001b[39m\n\u001b[1;32m---> 11\u001b[0m \u001b[43mstu1\u001b[49m\u001b[38;5;241;43m.\u001b[39;49m\u001b[43mchange\u001b[49m\u001b[43m(\u001b[49m\u001b[38;5;241;43m600\u001b[39;49m\u001b[43m)\u001b[49m\n\u001b[0;32m     12\u001b[0m stu1\u001b[38;5;241m.\u001b[39mresult()\n",
      "Cell \u001b[1;32mIn[23], line 7\u001b[0m, in \u001b[0;36mStudents.change\u001b[1;34m(cls, marks)\u001b[0m\n\u001b[0;32m      5\u001b[0m \u001b[38;5;129m@classmethod\u001b[39m\n\u001b[0;32m      6\u001b[0m \u001b[38;5;28;01mdef\u001b[39;00m \u001b[38;5;21mchange\u001b[39m(\u001b[38;5;28mcls\u001b[39m,marks):\n\u001b[1;32m----> 7\u001b[0m     \u001b[38;5;28;43mself\u001b[39;49m\u001b[38;5;241m.\u001b[39mmarks\u001b[38;5;241m=\u001b[39mmarks\n",
      "\u001b[1;31mNameError\u001b[0m: name 'self' is not defined"
     ]
    }
   ],
   "source": [
    "class Students:\n",
    "    marks=500\n",
    "    def result(self):\n",
    "        print(f\"the student with {self.name} with {self.rollno} has made top in exam by scoring {self.marks}\")\n",
    "    @classmethod\n",
    "    def change(cls,marks):\n",
    "        self.marks=marks       ERROR= CLS.MARKS\n",
    "stu1=Students()\n",
    "stu1.fname=\"ramesh\"\n",
    "stu1.rollno=19\n",
    "stu1.change(600)\n",
    "stu1.result()\n",
    "         \n",
    "    \n"
   ]
  },
  {
   "cell_type": "code",
   "execution_count": 26,
   "id": "73d5cfb7",
   "metadata": {},
   "outputs": [
    {
     "name": "stdout",
     "output_type": "stream",
     "text": [
      "the student with name ramesh and rollno 19 has made top in exam by scoring 600\n"
     ]
    }
   ],
   "source": [
    "class Students:\n",
    "    marks=500\n",
    "    def result(self):\n",
    "        print(f\"the student with name {self.name} and rollno {self.rollno} has made top in exam by scoring {self.marks}\")\n",
    "    @classmethod\n",
    "    def change(cls,marks):\n",
    "        cls.marks=marks\n",
    "stu1=Students()\n",
    "stu1.name=\"ramesh\"\n",
    "stu1.rollno=19\n",
    "stu1.change(600)\n",
    "stu1.result()\n",
    "        "
   ]
  },
  {
   "cell_type": "code",
   "execution_count": null,
   "id": "b58dd33e",
   "metadata": {},
   "outputs": [],
   "source": []
  }
 ],
 "metadata": {
  "kernelspec": {
   "display_name": "Python 3 (ipykernel)",
   "language": "python",
   "name": "python3"
  },
  "language_info": {
   "codemirror_mode": {
    "name": "ipython",
    "version": 3
   },
   "file_extension": ".py",
   "mimetype": "text/x-python",
   "name": "python",
   "nbconvert_exporter": "python",
   "pygments_lexer": "ipython3",
   "version": "3.10.10"
  }
 },
 "nbformat": 4,
 "nbformat_minor": 5
}
