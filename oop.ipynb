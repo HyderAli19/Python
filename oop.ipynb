{
 "cells": [
  {
   "cell_type": "code",
   "execution_count": 3,
   "id": "81f3b684",
   "metadata": {},
   "outputs": [
    {
     "name": "stdout",
     "output_type": "stream",
     "text": [
      "IT IS TYPE OF PROGRAMMING BASED ON THE CONCEPTS OF CLASSES,OBJECTS AND METHODS...\n",
      "A STYLE OF PROGRAMMING WHRE THERE IS LINK BETWEEN OBJECTS AND CLASSES AS WELL AS METHOS\n"
     ]
    }
   ],
   "source": [
    "#OOP OBJECT ORIENTED PROGRAMMING..........\n",
    "print(\"IT IS TYPE OF PROGRAMMING BASED ON THE CONCEPTS OF CLASSES,OBJECTS AND METHODS...\") \n",
    "print(\"A STYLE OF PROGRAMMING WHRE THERE IS LINK BETWEEN OBJECTS AND CLASSES AS WELL AS METHOS\")"
   ]
  },
  {
   "cell_type": "code",
   "execution_count": 4,
   "id": "0d5460c5",
   "metadata": {},
   "outputs": [],
   "source": [
    "#OOP HAS INHERITENCE, ABSTARACTION,POLYMORPHISM,ENCAPSULATION"
   ]
  },
  {
   "cell_type": "code",
   "execution_count": 7,
   "id": "298c59d7",
   "metadata": {},
   "outputs": [
    {
     "ename": "SyntaxError",
     "evalue": "invalid syntax (2424231069.py, line 4)",
     "output_type": "error",
     "traceback": [
      "\u001b[1;36m  Cell \u001b[1;32mIn[7], line 4\u001b[1;36m\u001b[0m\n\u001b[1;33m    Class student:\u001b[0m\n\u001b[1;37m          ^\u001b[0m\n\u001b[1;31mSyntaxError\u001b[0m\u001b[1;31m:\u001b[0m invalid syntax\n"
     ]
    }
   ],
   "source": [
    "#CREATING A CLASS\n",
    "# CLASS IS DEFINED AS DEFINATION OF THE METHODS AND THE VARIABLES IN IT..\n",
    "#CALSS <CLASS NAME>():\n",
    "Class student:\n",
    "     statements....."
   ]
  },
  {
   "cell_type": "code",
   "execution_count": 10,
   "id": "1b3de891",
   "metadata": {},
   "outputs": [
    {
     "name": "stdout",
     "output_type": "stream",
     "text": [
      "hyder\n",
      "35453\n"
     ]
    }
   ],
   "source": [
    "#object is used to acces the properties of a class\n",
    "class Student:   #CLASS NAME\n",
    "    name=\"hyder\"\n",
    "    age=35453\n",
    "obj1= Student()  #OBJECT\n",
    "print(obj1.name)\n",
    "print(obj1.age)"
   ]
  },
  {
   "cell_type": "code",
   "execution_count": 14,
   "id": "e8d08e74",
   "metadata": {},
   "outputs": [
    {
     "name": "stdout",
     "output_type": "stream",
     "text": [
      "hyder\n",
      "857\n",
      "ds\n"
     ]
    }
   ],
   "source": [
    "class Csd:\n",
    "    name=\"hyder\"\n",
    "    age=857\n",
    "    section=\"ds\"\n",
    "obj=Csd\n",
    "print(obj.name)\n",
    "print(obj.age)\n",
    "print(obj.section)\n"
   ]
  },
  {
   "cell_type": "code",
   "execution_count": null,
   "id": "cbd1e9dd",
   "metadata": {},
   "outputs": [],
   "source": []
  }
 ],
 "metadata": {
  "kernelspec": {
   "display_name": "Python 3 (ipykernel)",
   "language": "python",
   "name": "python3"
  },
  "language_info": {
   "codemirror_mode": {
    "name": "ipython",
    "version": 3
   },
   "file_extension": ".py",
   "mimetype": "text/x-python",
   "name": "python",
   "nbconvert_exporter": "python",
   "pygments_lexer": "ipython3",
   "version": "3.10.10"
  }
 },
 "nbformat": 4,
 "nbformat_minor": 5
}
