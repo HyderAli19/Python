{
 "cells": [
  {
   "cell_type": "code",
   "execution_count": null,
   "id": "da671fdb",
   "metadata": {},
   "outputs": [],
   "source": []
  },
  {
   "cell_type": "code",
   "execution_count": 1,
   "id": "fa6763cd",
   "metadata": {},
   "outputs": [
    {
     "name": "stdout",
     "output_type": "stream",
     "text": [
      "helloworld\n"
     ]
    }
   ],
   "source": [
    "print(\"helloworld\")"
   ]
  },
  {
   "cell_type": "code",
   "execution_count": 1,
   "id": "eb83dc00",
   "metadata": {},
   "outputs": [
    {
     "name": "stdout",
     "output_type": "stream",
     "text": [
      "enter a number:45\n"
     ]
    }
   ],
   "source": [
    "num = int(input(\"enter a number:\"))\n",
    "if num%2==0:\n",
    "    print(\"is even\")\n",
    "    "
   ]
  },
  {
   "cell_type": "code",
   "execution_count": 17,
   "id": "e3fce195",
   "metadata": {},
   "outputs": [
    {
     "name": "stdout",
     "output_type": "stream",
     "text": [
      "multi\n"
     ]
    }
   ],
   "source": [
    "multi = '''str1\n",
    "str2\n",
    "str3\n",
    "....'''\n",
    "print(\"multi\")"
   ]
  },
  {
   "cell_type": "code",
   "execution_count": 19,
   "id": "4173037f",
   "metadata": {},
   "outputs": [
    {
     "name": "stdout",
     "output_type": "stream",
     "text": [
      "<class 'int'>\n",
      "<class 'float'>\n",
      "<class 'str'>\n"
     ]
    }
   ],
   "source": [
    "a=10\n",
    "salary=658.25\n",
    "name = \"ali\"\n",
    "print(type(a))\n",
    "print(type(salary))\n",
    "print(type(name))"
   ]
  },
  {
   "cell_type": "raw",
   "id": "bf651f59",
   "metadata": {},
   "source": [
    "str1= \"hello\"\n",
    "str2= \"hello world\"\n",
    "print(str1[0:2])\n",
    "print(str2[0:5])"
   ]
  },
  {
   "cell_type": "code",
   "execution_count": 20,
   "id": "18d0f2f1",
   "metadata": {},
   "outputs": [
    {
     "name": "stdout",
     "output_type": "stream",
     "text": [
      "he\n",
      "hello\n"
     ]
    }
   ],
   "source": [
    "str1= \"hello\"\n",
    "str2= \"hello world\"\n",
    "print(str1[0:2])\n",
    "print(str2[0:5])"
   ]
  },
  {
   "cell_type": "code",
   "execution_count": 22,
   "id": "6fc1fea4",
   "metadata": {},
   "outputs": [
    {
     "name": "stdout",
     "output_type": "stream",
     "text": [
      "<class 'str'>\n"
     ]
    }
   ],
   "source": [
    "name = \"hyder\"\n",
    "salary = 3452.09\n",
    "age = 20\n",
    "location =\"main bazar\"\n",
    "print(type(location))"
   ]
  },
  {
   "cell_type": "code",
   "execution_count": 24,
   "id": "36f3b464",
   "metadata": {},
   "outputs": [
    {
     "name": "stdout",
     "output_type": "stream",
     "text": [
      "hyder\n",
      "3452.09\n"
     ]
    }
   ],
   "source": [
    "print(name)\n",
    "print(salary)"
   ]
  },
  {
   "cell_type": "code",
   "execution_count": 32,
   "id": "87515bdf",
   "metadata": {},
   "outputs": [
    {
     "name": "stdout",
     "output_type": "stream",
     "text": [
      "enter a number:655\n",
      "num is odd\n"
     ]
    }
   ],
   "source": [
    "num = int(input(\"enter a number:\"))\n",
    "if(num %2 ==0):\n",
    "    print(\"num is even\")\n",
    "else:\n",
    "    print(\"num is odd\")\n"
   ]
  },
  {
   "cell_type": "code",
   "execution_count": 39,
   "id": "e6e3d36f",
   "metadata": {},
   "outputs": [
    {
     "name": "stdout",
     "output_type": "stream",
     "text": [
      "apple\n",
      "mango\n",
      "grapes\n"
     ]
    }
   ],
   "source": [
    "fruits = [\"apple\",\"mango\",\"grapes\"]\n",
    "for apple in fruits :\n",
    "    print(apple)"
   ]
  },
  {
   "cell_type": "code",
   "execution_count": null,
   "id": "2ea685e8",
   "metadata": {},
   "outputs": [],
   "source": [
    "a= 10\n",
    "while(a<=10):\n",
    "    print(a)\n",
    "    a+=2"
   ]
  },
  {
   "cell_type": "code",
   "execution_count": null,
   "id": "ed1a9efd",
   "metadata": {},
   "outputs": [],
   "source": [
    "a= 10\n",
    "while(a<=10):\n",
    "    print(a)\n",
    "    a+=2"
   ]
  },
  {
   "cell_type": "code",
   "execution_count": null,
   "id": "87ee3952",
   "metadata": {},
   "outputs": [],
   "source": [
    "try:\n",
    "    num = int(input(\"enter an integer:\"))\n",
    "    a=[3,4]\n",
    "    print(a[num])\n",
    "except valueError:\n",
    "    print(\"number entered is not an integer\")\n",
    "except indexError:\n",
    "    print(\"index error\")"
   ]
  },
  {
   "cell_type": "code",
   "execution_count": null,
   "id": "e89910bb",
   "metadata": {},
   "outputs": [],
   "source": []
  }
 ],
 "metadata": {
  "kernelspec": {
   "display_name": "Python 3 (ipykernel)",
   "language": "python",
   "name": "python3"
  },
  "language_info": {
   "codemirror_mode": {
    "name": "ipython",
    "version": 3
   },
   "file_extension": ".py",
   "mimetype": "text/x-python",
   "name": "python",
   "nbconvert_exporter": "python",
   "pygments_lexer": "ipython3",
   "version": "3.10.10"
  }
 },
 "nbformat": 4,
 "nbformat_minor": 5
}
