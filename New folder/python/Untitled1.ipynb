{
 "cells": [
  {
   "cell_type": "code",
   "execution_count": 2,
   "id": "0daaba99",
   "metadata": {},
   "outputs": [
    {
     "name": "stdout",
     "output_type": "stream",
     "text": [
      "hello world\n"
     ]
    }
   ],
   "source": [
    "print(\"hello world\")"
   ]
  },
  {
   "cell_type": "code",
   "execution_count": 4,
   "id": "1d5fd804",
   "metadata": {},
   "outputs": [
    {
     "name": "stdout",
     "output_type": "stream",
     "text": [
      "hello world 3\n"
     ]
    }
   ],
   "source": [
    "print(\"hello world\",3)"
   ]
  },
  {
   "cell_type": "code",
   "execution_count": 5,
   "id": "28ccbb62",
   "metadata": {},
   "outputs": [
    {
     "name": "stdout",
     "output_type": "stream",
     "text": [
      "value of c : 48\n"
     ]
    }
   ],
   "source": [
    "a=19\n",
    "b=29\n",
    "c=a+b\n",
    "print(\"value of c :\",c )"
   ]
  },
  {
   "cell_type": "code",
   "execution_count": 6,
   "id": "8cb39db5",
   "metadata": {},
   "outputs": [
    {
     "name": "stdout",
     "output_type": "stream",
     "text": [
      "<class 'int'>\n"
     ]
    }
   ],
   "source": [
    "print(type(a))"
   ]
  },
  {
   "cell_type": "code",
   "execution_count": 7,
   "id": "85cce8e2",
   "metadata": {},
   "outputs": [
    {
     "name": "stdout",
     "output_type": "stream",
     "text": [
      "19.0\n"
     ]
    }
   ],
   "source": [
    "a=19\n",
    "print(float(a))"
   ]
  },
  {
   "cell_type": "code",
   "execution_count": 10,
   "id": "e26a2108",
   "metadata": {},
   "outputs": [
    {
     "name": "stdout",
     "output_type": "stream",
     "text": [
      "52\n"
     ]
    }
   ],
   "source": [
    "a=29.33\n",
    "b=23.33\n",
    "c=a+b\n",
    "print(int(a)+int(b))"
   ]
  },
  {
   "cell_type": "code",
   "execution_count": 11,
   "id": "0c7797d2",
   "metadata": {},
   "outputs": [
    {
     "name": "stdout",
     "output_type": "stream",
     "text": [
      "52 52.66\n"
     ]
    }
   ],
   "source": [
    "a=29.33\n",
    "b=23.33\n",
    "c=a+b\n",
    "print(int(a)+int(b),c)"
   ]
  },
  {
   "cell_type": "code",
   "execution_count": 16,
   "id": "b9eaec6b",
   "metadata": {},
   "outputs": [
    {
     "name": "stdout",
     "output_type": "stream",
     "text": [
      "sum of a and b is: 30\n",
      "sub of a and b is: -10\n",
      "mul of a and b is: 200\n",
      "div of a and b is: 0.5\n",
      "mod of a and b is: 0\n"
     ]
    }
   ],
   "source": [
    "a=10\n",
    "b=20\n",
    "print(\"sum of a and b is:\",a+b)\n",
    "print(\"sub of a and b is:\",a-b)\n",
    "print(\"mul of a and b is:\",a*b)\n",
    "print(\"div of a and b is:\",a/b)\n",
    "print(\"mod of a and b is:\",a//b)"
   ]
  },
  {
   "cell_type": "code",
   "execution_count": 18,
   "id": "07c85cc1",
   "metadata": {},
   "outputs": [
    {
     "ename": "NameError",
     "evalue": "name 'intput' is not defined",
     "output_type": "error",
     "traceback": [
      "\u001b[1;31m---------------------------------------------------------------------------\u001b[0m",
      "\u001b[1;31mNameError\u001b[0m                                 Traceback (most recent call last)",
      "Cell \u001b[1;32mIn[18], line 1\u001b[0m\n\u001b[1;32m----> 1\u001b[0m a\u001b[38;5;241m=\u001b[39m\u001b[43mintput\u001b[49m(\u001b[38;5;124m\"\u001b[39m\u001b[38;5;124menter a number:\u001b[39m\u001b[38;5;124m\"\u001b[39m)\n\u001b[0;32m      2\u001b[0m b\u001b[38;5;241m=\u001b[39m\u001b[38;5;28minput\u001b[39m(\u001b[38;5;124m\"\u001b[39m\u001b[38;5;124menter a number:\u001b[39m\u001b[38;5;124m\"\u001b[39m)\n\u001b[0;32m      4\u001b[0m \u001b[38;5;28mprint\u001b[39m(\u001b[38;5;124m\"\u001b[39m\u001b[38;5;124msum of a and b is:\u001b[39m\u001b[38;5;124m\"\u001b[39m,a\u001b[38;5;241m+\u001b[39mb)\n",
      "\u001b[1;31mNameError\u001b[0m: name 'intput' is not defined"
     ]
    }
   ],
   "source": [
    "a=intput(\"enter a number:\")\n",
    "b=input(\"enter a number:\")\n",
    "print(\"sum of a and b is:\",a+b)\n",
    "print(\"sub of a and b is:\",a-b)\n",
    "print(\"mul of a and b is:\",a*b)\n",
    "print(\"div of a and b is:\",a/b)\n",
    "print(\"mod of a and b is:\",a//b)"
   ]
  },
  {
   "cell_type": "code",
   "execution_count": 19,
   "id": "56fff27e",
   "metadata": {},
   "outputs": [
    {
     "name": "stdout",
     "output_type": "stream",
     "text": [
      "enter a number:88\n",
      "enter a number:44\n",
      "sum of a and b is: 8844\n"
     ]
    },
    {
     "ename": "TypeError",
     "evalue": "unsupported operand type(s) for -: 'str' and 'str'",
     "output_type": "error",
     "traceback": [
      "\u001b[1;31m---------------------------------------------------------------------------\u001b[0m",
      "\u001b[1;31mTypeError\u001b[0m                                 Traceback (most recent call last)",
      "Cell \u001b[1;32mIn[19], line 4\u001b[0m\n\u001b[0;32m      2\u001b[0m b\u001b[38;5;241m=\u001b[39m\u001b[38;5;28minput\u001b[39m(\u001b[38;5;124m\"\u001b[39m\u001b[38;5;124menter a number:\u001b[39m\u001b[38;5;124m\"\u001b[39m)\n\u001b[0;32m      3\u001b[0m \u001b[38;5;28mprint\u001b[39m(\u001b[38;5;124m\"\u001b[39m\u001b[38;5;124msum of a and b is:\u001b[39m\u001b[38;5;124m\"\u001b[39m,a\u001b[38;5;241m+\u001b[39mb)\n\u001b[1;32m----> 4\u001b[0m \u001b[38;5;28mprint\u001b[39m(\u001b[38;5;124m\"\u001b[39m\u001b[38;5;124msub of a and b is:\u001b[39m\u001b[38;5;124m\"\u001b[39m,\u001b[43ma\u001b[49m\u001b[38;5;241;43m-\u001b[39;49m\u001b[43mb\u001b[49m)\n\u001b[0;32m      5\u001b[0m \u001b[38;5;28mprint\u001b[39m(\u001b[38;5;124m\"\u001b[39m\u001b[38;5;124mmul of a and b is:\u001b[39m\u001b[38;5;124m\"\u001b[39m,a\u001b[38;5;241m*\u001b[39mb)\n\u001b[0;32m      6\u001b[0m \u001b[38;5;28mprint\u001b[39m(\u001b[38;5;124m\"\u001b[39m\u001b[38;5;124mdiv of a and b is:\u001b[39m\u001b[38;5;124m\"\u001b[39m,a\u001b[38;5;241m/\u001b[39mb)\n",
      "\u001b[1;31mTypeError\u001b[0m: unsupported operand type(s) for -: 'str' and 'str'"
     ]
    }
   ],
   "source": [
    "a=input(\"enter a number:\")\n",
    "b=input(\"enter a number:\")\n",
    "print(\"sum of a and b is:\",a+b)\n",
    "print(\"sub of a and b is:\",a-b)\n",
    "print(\"mul of a and b is:\",a*b)\n",
    "print(\"div of a and b is:\",a/b)\n",
    "print(\"mod of a and b is:\",a//b)"
   ]
  },
  {
   "cell_type": "code",
   "execution_count": 20,
   "id": "b284fa67",
   "metadata": {},
   "outputs": [
    {
     "ename": "SyntaxError",
     "evalue": "invalid syntax. Perhaps you forgot a comma? (1570266542.py, line 1)",
     "output_type": "error",
     "traceback": [
      "\u001b[1;36m  Cell \u001b[1;32mIn[20], line 1\u001b[1;36m\u001b[0m\n\u001b[1;33m    a=input(enter a number:)\u001b[0m\n\u001b[1;37m            ^\u001b[0m\n\u001b[1;31mSyntaxError\u001b[0m\u001b[1;31m:\u001b[0m invalid syntax. Perhaps you forgot a comma?\n"
     ]
    }
   ],
   "source": [
    "a=input(enter a number:)\n",
    "b=input(enter a number:)\n",
    "print(\"sum of a and b is:\",a+b)\n",
    "print(\"sub of a and b is:\",a-b)\n",
    "print(\"mul of a and b is:\",a*b)\n",
    "print(\"div of a and b is:\",a/b)\n",
    "print(\"mod of a and b is:\",a//b)"
   ]
  },
  {
   "cell_type": "code",
   "execution_count": 22,
   "id": "5a5b2fbd",
   "metadata": {},
   "outputs": [
    {
     "name": "stdout",
     "output_type": "stream",
     "text": [
      "enter a number:55\n",
      "enter a number:99\n",
      "sum of a and b is: 154\n",
      "sub of a and b is: -44\n",
      "mul of a and b is: 5445\n",
      "div of a and b is: 0.5555555555555556\n",
      "mod of a and b is: 0\n"
     ]
    }
   ],
   "source": [
    "a=int(input(\"enter a number:\"))\n",
    "b=int(input(\"enter a number:\"))\n",
    "print(\"sum of a and b is:\",a+b)\n",
    "print(\"sub of a and b is:\",a-b)\n",
    "print(\"mul of a and b is:\",a*b)\n",
    "print(\"div of a and b is:\",a/b)\n",
    "print(\"mod of a and b is:\",a//b)"
   ]
  },
  {
   "cell_type": "code",
   "execution_count": 23,
   "id": "5d8cee18",
   "metadata": {
    "scrolled": true
   },
   "outputs": [
    {
     "name": "stdout",
     "output_type": "stream",
     "text": [
      "enter a number:64\n"
     ]
    }
   ],
   "source": [
    "a=float(input(\"enter a number:\"))"
   ]
  },
  {
   "cell_type": "code",
   "execution_count": 24,
   "id": "eb717d3e",
   "metadata": {},
   "outputs": [
    {
     "name": "stdout",
     "output_type": "stream",
     "text": [
      "64.0\n"
     ]
    }
   ],
   "source": [
    "print(float(a))"
   ]
  },
  {
   "cell_type": "code",
   "execution_count": 25,
   "id": "05221603",
   "metadata": {},
   "outputs": [
    {
     "name": "stdout",
     "output_type": "stream",
     "text": [
      "2456883923472\n"
     ]
    }
   ],
   "source": [
    "print(id(a))"
   ]
  },
  {
   "cell_type": "code",
   "execution_count": 27,
   "id": "23483e84",
   "metadata": {},
   "outputs": [
    {
     "name": "stdout",
     "output_type": "stream",
     "text": [
      "2456780407312 2456780407920\n"
     ]
    }
   ],
   "source": [
    "a=10\n",
    "b=29\n",
    "print(id(a),id(b))"
   ]
  },
  {
   "cell_type": "code",
   "execution_count": 28,
   "id": "eca44685",
   "metadata": {},
   "outputs": [
    {
     "name": "stdout",
     "output_type": "stream",
     "text": [
      "2456780407312 2456780407312\n"
     ]
    }
   ],
   "source": [
    "a=10\n",
    "b=10\n",
    "print(id(a),id(b))"
   ]
  },
  {
   "cell_type": "code",
   "execution_count": 31,
   "id": "e6bdc2e4",
   "metadata": {},
   "outputs": [
    {
     "name": "stdout",
     "output_type": "stream",
     "text": [
      "sum of values a nd b: 51\n",
      "sum of valus c and a: 93\n"
     ]
    }
   ],
   "source": [
    "a=28\n",
    "b=23\n",
    "c=65\n",
    "print(\"sum of values a nd b:\",a+b)\n",
    "print(\"sum of valus c and a:\",c+a)"
   ]
  },
  {
   "cell_type": "code",
   "execution_count": 1,
   "id": "d616b8f1",
   "metadata": {},
   "outputs": [
    {
     "name": "stdout",
     "output_type": "stream",
     "text": [
      "hyder\n"
     ]
    }
   ],
   "source": [
    "str1=\"hyder\"\n",
    "print(str1)"
   ]
  },
  {
   "cell_type": "code",
   "execution_count": 2,
   "id": "7009fb70",
   "metadata": {},
   "outputs": [
    {
     "name": "stdout",
     "output_type": "stream",
     "text": [
      "e\n"
     ]
    }
   ],
   "source": [
    "print(str1[3])"
   ]
  },
  {
   "cell_type": "code",
   "execution_count": 3,
   "id": "8e0e1463",
   "metadata": {},
   "outputs": [
    {
     "name": "stdout",
     "output_type": "stream",
     "text": [
      "5\n"
     ]
    }
   ],
   "source": [
    "print(len(str1))"
   ]
  },
  {
   "cell_type": "code",
   "execution_count": 5,
   "id": "924ef8a6",
   "metadata": {},
   "outputs": [
    {
     "name": "stdout",
     "output_type": "stream",
     "text": [
      "d\n"
     ]
    }
   ],
   "source": [
    "a=\"hello i am hyder\"\n",
    "print(a[-3:-2])"
   ]
  },
  {
   "cell_type": "code",
   "execution_count": 6,
   "id": "ba773c0b",
   "metadata": {},
   "outputs": [
    {
     "name": "stdout",
     "output_type": "stream",
     "text": [
      "hi bro,\"nice to meet you\"\n"
     ]
    }
   ],
   "source": [
    "str2='''hi bro,\"nice to meet you\"'''\n",
    "print(str2)"
   ]
  },
  {
   "cell_type": "code",
   "execution_count": 13,
   "id": "7b1ebdf5",
   "metadata": {},
   "outputs": [
    {
     "ename": "AttributeError",
     "evalue": "'str' object has no attribute 'captalize'",
     "output_type": "error",
     "traceback": [
      "\u001b[1;31m---------------------------------------------------------------------------\u001b[0m",
      "\u001b[1;31mAttributeError\u001b[0m                            Traceback (most recent call last)",
      "Cell \u001b[1;32mIn[13], line 1\u001b[0m\n\u001b[1;32m----> 1\u001b[0m \u001b[38;5;28mprint\u001b[39m(\u001b[43mstr2\u001b[49m\u001b[38;5;241;43m.\u001b[39;49m\u001b[43mcaptalize\u001b[49m())\n",
      "\u001b[1;31mAttributeError\u001b[0m: 'str' object has no attribute 'captalize'"
     ]
    }
   ],
   "source": [
    "print(str2.captalize())"
   ]
  },
  {
   "cell_type": "code",
   "execution_count": 8,
   "id": "4924c151",
   "metadata": {},
   "outputs": [
    {
     "ename": "NameError",
     "evalue": "name 'capitalize' is not defined",
     "output_type": "error",
     "traceback": [
      "\u001b[1;31m---------------------------------------------------------------------------\u001b[0m",
      "\u001b[1;31mNameError\u001b[0m                                 Traceback (most recent call last)",
      "Cell \u001b[1;32mIn[8], line 1\u001b[0m\n\u001b[1;32m----> 1\u001b[0m \u001b[38;5;28mprint\u001b[39m(\u001b[43mcapitalize\u001b[49m(str2))\n",
      "\u001b[1;31mNameError\u001b[0m: name 'capitalize' is not defined"
     ]
    }
   ],
   "source": [
    "print(capitalize(str2))"
   ]
  },
  {
   "cell_type": "code",
   "execution_count": 9,
   "id": "6175dd0c",
   "metadata": {},
   "outputs": [
    {
     "name": "stdout",
     "output_type": "stream",
     "text": [
      "<built-in method capitalize of str object at 0x0000025B1982B320>\n"
     ]
    }
   ],
   "source": [
    "print(str2.capitalize)"
   ]
  },
  {
   "cell_type": "code",
   "execution_count": 11,
   "id": "8c10a26a",
   "metadata": {},
   "outputs": [
    {
     "ename": "NameError",
     "evalue": "name 'capitalize' is not defined",
     "output_type": "error",
     "traceback": [
      "\u001b[1;31m---------------------------------------------------------------------------\u001b[0m",
      "\u001b[1;31mNameError\u001b[0m                                 Traceback (most recent call last)",
      "Cell \u001b[1;32mIn[11], line 1\u001b[0m\n\u001b[1;32m----> 1\u001b[0m \u001b[38;5;28mprint\u001b[39m(\u001b[43mcapitalize\u001b[49m\u001b[38;5;241m.\u001b[39mstr2)\n",
      "\u001b[1;31mNameError\u001b[0m: name 'capitalize' is not defined"
     ]
    }
   ],
   "source": [
    "print(capitalize.str2)"
   ]
  },
  {
   "cell_type": "code",
   "execution_count": 12,
   "id": "bc6d86f1",
   "metadata": {},
   "outputs": [
    {
     "ename": "NameError",
     "evalue": "name 'capitalize' is not defined",
     "output_type": "error",
     "traceback": [
      "\u001b[1;31m---------------------------------------------------------------------------\u001b[0m",
      "\u001b[1;31mNameError\u001b[0m                                 Traceback (most recent call last)",
      "Cell \u001b[1;32mIn[12], line 1\u001b[0m\n\u001b[1;32m----> 1\u001b[0m \u001b[38;5;28mprint\u001b[39m(\u001b[43mcapitalize\u001b[49m\u001b[38;5;241m.\u001b[39mstr2)\n",
      "\u001b[1;31mNameError\u001b[0m: name 'capitalize' is not defined"
     ]
    }
   ],
   "source": [
    "print(capitalize.str2)"
   ]
  },
  {
   "cell_type": "code",
   "execution_count": 14,
   "id": "92734513",
   "metadata": {},
   "outputs": [
    {
     "ename": "AttributeError",
     "evalue": "'str' object has no attribute 'capatlize'",
     "output_type": "error",
     "traceback": [
      "\u001b[1;31m---------------------------------------------------------------------------\u001b[0m",
      "\u001b[1;31mAttributeError\u001b[0m                            Traceback (most recent call last)",
      "Cell \u001b[1;32mIn[14], line 2\u001b[0m\n\u001b[0;32m      1\u001b[0m str2\u001b[38;5;241m=\u001b[39m\u001b[38;5;124m'''\u001b[39m\u001b[38;5;124mhi bro,\u001b[39m\u001b[38;5;124m\"\u001b[39m\u001b[38;5;124mnice to meet you\u001b[39m\u001b[38;5;124m\"\u001b[39m\u001b[38;5;124m'''\u001b[39m\n\u001b[1;32m----> 2\u001b[0m \u001b[38;5;28mprint\u001b[39m(\u001b[43mstr2\u001b[49m\u001b[38;5;241;43m.\u001b[39;49m\u001b[43mcapatlize\u001b[49m())\n",
      "\u001b[1;31mAttributeError\u001b[0m: 'str' object has no attribute 'capatlize'"
     ]
    }
   ],
   "source": [
    "str2='''hi bro,\"nice to meet you\"'''\n",
    "print(str2.capatlize())"
   ]
  },
  {
   "cell_type": "code",
   "execution_count": 15,
   "id": "a691fefc",
   "metadata": {},
   "outputs": [
    {
     "ename": "AttributeError",
     "evalue": "'str' object has no attribute 'capatlize'",
     "output_type": "error",
     "traceback": [
      "\u001b[1;31m---------------------------------------------------------------------------\u001b[0m",
      "\u001b[1;31mAttributeError\u001b[0m                            Traceback (most recent call last)",
      "Cell \u001b[1;32mIn[15], line 1\u001b[0m\n\u001b[1;32m----> 1\u001b[0m \u001b[38;5;28mprint\u001b[39m(\u001b[43mstr2\u001b[49m\u001b[38;5;241;43m.\u001b[39;49m\u001b[43mcapatlize\u001b[49m(\u001b[38;5;124m'''\u001b[39m\u001b[38;5;124mhi bro,\u001b[39m\u001b[38;5;124m\"\u001b[39m\u001b[38;5;124mnice to meet you\u001b[39m\u001b[38;5;124m\"\u001b[39m\u001b[38;5;124m'''\u001b[39m))\n",
      "\u001b[1;31mAttributeError\u001b[0m: 'str' object has no attribute 'capatlize'"
     ]
    }
   ],
   "source": [
    "print(str2.capatlize('''hi bro,\"nice to meet you\"'''))"
   ]
  },
  {
   "cell_type": "code",
   "execution_count": 16,
   "id": "b76248bb",
   "metadata": {},
   "outputs": [
    {
     "name": "stdout",
     "output_type": "stream",
     "text": [
      "Abcd\n"
     ]
    }
   ],
   "source": [
    "str=\"abcd\"\n",
    "print(str.capitalize())"
   ]
  },
  {
   "cell_type": "code",
   "execution_count": 17,
   "id": "a87327ad",
   "metadata": {},
   "outputs": [
    {
     "name": "stdout",
     "output_type": "stream",
     "text": [
      "Welcome to my world\n"
     ]
    }
   ],
   "source": [
    "str3='welcome to my world'\n",
    "print(str3.capitalize)"
   ]
  },
  {
   "cell_type": "code",
   "execution_count": 18,
   "id": "e49542a0",
   "metadata": {},
   "outputs": [
    {
     "name": "stdout",
     "output_type": "stream",
     "text": [
      "Welcome To My World\n"
     ]
    }
   ],
   "source": [
    "str3='welcome to my world'\n",
    "print(str3.title())"
   ]
  },
  {
   "cell_type": "code",
   "execution_count": 21,
   "id": "fa505f44",
   "metadata": {},
   "outputs": [
    {
     "ename": "TypeError",
     "evalue": "count() takes at least 1 argument (0 given)",
     "output_type": "error",
     "traceback": [
      "\u001b[1;31m---------------------------------------------------------------------------\u001b[0m",
      "\u001b[1;31mTypeError\u001b[0m                                 Traceback (most recent call last)",
      "Cell \u001b[1;32mIn[21], line 1\u001b[0m\n\u001b[1;32m----> 1\u001b[0m \u001b[38;5;28mprint\u001b[39m(\u001b[38;5;28;43mstr\u001b[39;49m\u001b[38;5;241;43m.\u001b[39;49m\u001b[43mcount\u001b[49m\u001b[43m(\u001b[49m\u001b[43m)\u001b[49m)\n",
      "\u001b[1;31mTypeError\u001b[0m: count() takes at least 1 argument (0 given)"
     ]
    }
   ],
   "source": [
    "print(str.count())"
   ]
  },
  {
   "cell_type": "code",
   "execution_count": 22,
   "id": "cad26623",
   "metadata": {},
   "outputs": [
    {
     "ename": "TypeError",
     "evalue": "count() takes at least 1 argument (0 given)",
     "output_type": "error",
     "traceback": [
      "\u001b[1;31m---------------------------------------------------------------------------\u001b[0m",
      "\u001b[1;31mTypeError\u001b[0m                                 Traceback (most recent call last)",
      "Cell \u001b[1;32mIn[22], line 1\u001b[0m\n\u001b[1;32m----> 1\u001b[0m \u001b[38;5;28mprint\u001b[39m(\u001b[38;5;28;43mstr\u001b[39;49m\u001b[38;5;241;43m.\u001b[39;49m\u001b[43mcount\u001b[49m\u001b[43m(\u001b[49m\u001b[43m)\u001b[49m)\n",
      "\u001b[1;31mTypeError\u001b[0m: count() takes at least 1 argument (0 given)"
     ]
    }
   ],
   "source": [
    "print(str.count())"
   ]
  },
  {
   "cell_type": "code",
   "execution_count": 23,
   "id": "b3e6d593",
   "metadata": {},
   "outputs": [
    {
     "name": "stdout",
     "output_type": "stream",
     "text": [
      "ABCD\n"
     ]
    }
   ],
   "source": [
    "print(str.upper())"
   ]
  },
  {
   "cell_type": "code",
   "execution_count": 24,
   "id": "ff356d53",
   "metadata": {},
   "outputs": [
    {
     "ename": "TypeError",
     "evalue": "count() takes at least 1 argument (0 given)",
     "output_type": "error",
     "traceback": [
      "\u001b[1;31m---------------------------------------------------------------------------\u001b[0m",
      "\u001b[1;31mTypeError\u001b[0m                                 Traceback (most recent call last)",
      "Cell \u001b[1;32mIn[24], line 1\u001b[0m\n\u001b[1;32m----> 1\u001b[0m \u001b[38;5;28mprint\u001b[39m(\u001b[38;5;28;43mstr\u001b[39;49m\u001b[38;5;241;43m.\u001b[39;49m\u001b[43mcount\u001b[49m\u001b[43m(\u001b[49m\u001b[43m)\u001b[49m)\n",
      "\u001b[1;31mTypeError\u001b[0m: count() takes at least 1 argument (0 given)"
     ]
    }
   ],
   "source": [
    "print(str.count())"
   ]
  },
  {
   "cell_type": "code",
   "execution_count": 25,
   "id": "b686a830",
   "metadata": {},
   "outputs": [
    {
     "name": "stdout",
     "output_type": "stream",
     "text": [
      "Abcd\n"
     ]
    }
   ],
   "source": [
    "print(str.title())"
   ]
  },
  {
   "cell_type": "code",
   "execution_count": 4,
   "id": "b7a0fb0c",
   "metadata": {},
   "outputs": [
    {
     "name": "stdout",
     "output_type": "stream",
     "text": [
      "b is big number 20\n"
     ]
    }
   ],
   "source": [
    "a=10\n",
    "b=20\n",
    "if(a>b):\n",
    "    print(\"a is big number\",a)\n",
    "else:\n",
    "    print(\"b is big number\",b)"
   ]
  },
  {
   "cell_type": "code",
   "execution_count": 5,
   "id": "1757cc09",
   "metadata": {},
   "outputs": [
    {
     "name": "stdout",
     "output_type": "stream",
     "text": [
      "enter a number:44\n",
      "enter a number:88\n",
      "b is big number 88\n"
     ]
    }
   ],
   "source": [
    "a=int(input(\"enter a number:\"))\n",
    "b=int(input(\"enter a number:\"))\n",
    "if(a>b):\n",
    "    print(\"a is big number\",a)\n",
    "else:\n",
    "    print(\"b is big number\",b)"
   ]
  },
  {
   "cell_type": "code",
   "execution_count": 3,
   "id": "843a07c9",
   "metadata": {},
   "outputs": [
    {
     "name": "stdout",
     "output_type": "stream",
     "text": [
      "a is small\n"
     ]
    }
   ],
   "source": [
    "a=12\n",
    "if(a>44):\n",
    "    print(\"a is big number\")\n",
    "else:\n",
    "    print(\"a is small\")"
   ]
  },
  {
   "cell_type": "code",
   "execution_count": 1,
   "id": "13e96322",
   "metadata": {},
   "outputs": [
    {
     "name": "stdout",
     "output_type": "stream",
     "text": [
      "hello wold\n"
     ]
    }
   ],
   "source": [
    "print(\"hello wold\")"
   ]
  },
  {
   "cell_type": "code",
   "execution_count": 7,
   "id": "ace4bef4",
   "metadata": {},
   "outputs": [
    {
     "name": "stdout",
     "output_type": "stream",
     "text": [
      "Enter a number:19\n",
      "Enter a number:19\n",
      "I LOVE YOU 19\n"
     ]
    }
   ],
   "source": [
    "a=int(input(\"Enter a number:\"))\n",
    "b=int(input(\"Enter a number:\"))\n",
    "if(a==b):\n",
    "    print(\"I LOVE YOU\",a)\n",
    "else:\n",
    "    print(\"NOOOOOOO.....\",b)"
   ]
  },
  {
   "cell_type": "code",
   "execution_count": 9,
   "id": "812ddc4f",
   "metadata": {},
   "outputs": [
    {
     "name": "stdout",
     "output_type": "stream",
     "text": [
      "r\n"
     ]
    }
   ],
   "source": [
    "nm=\"harry\"\n",
    "print(nm[-3:-2])"
   ]
  },
  {
   "cell_type": "code",
   "execution_count": 2,
   "id": "efd8c12e",
   "metadata": {},
   "outputs": [
    {
     "name": "stdout",
     "output_type": "stream",
     "text": [
      "enter a number:6\n",
      "HAVE A GOOD DAY SIR 6.0\n"
     ]
    }
   ],
   "source": [
    "time=float(input(\"enter a number:\"))\n",
    "if(time>=12):\n",
    "    print(\"good morning sir\",time)\n",
    "elif(time==12):\n",
    "    print(\"good afternoon sir\",time)\n",
    "elif(time<=5):\n",
    "    print(\"good evening sir\",time)\n",
    "else:\n",
    "    print(\"HAVE A GOOD DAY SIR\",time)\n"
   ]
  },
  {
   "cell_type": "code",
   "execution_count": 3,
   "id": "f3033a0e",
   "metadata": {},
   "outputs": [
    {
     "name": "stdout",
     "output_type": "stream",
     "text": [
      "byee...done for today\n"
     ]
    }
   ],
   "source": [
    "print(\"byee...done for today\")"
   ]
  },
  {
   "cell_type": "code",
   "execution_count": 1,
   "id": "6d587150",
   "metadata": {},
   "outputs": [
    {
     "name": "stdout",
     "output_type": "stream",
     "text": [
      "hello\n"
     ]
    }
   ],
   "source": [
    "print(\"hello\")"
   ]
  },
  {
   "cell_type": "code",
   "execution_count": 3,
   "id": "fd8f9d7e",
   "metadata": {},
   "outputs": [
    {
     "name": "stdout",
     "output_type": "stream",
     "text": [
      "x is nineteen\n"
     ]
    }
   ],
   "source": [
    "a=19\n",
    "match a:\n",
    "    case 0:\n",
    "        print(\"x is zero\")\n",
    "    case 19:\n",
    "        print(\"x is nineteen\")"
   ]
  },
  {
   "cell_type": "code",
   "execution_count": 7,
   "id": "5ddb9153",
   "metadata": {},
   "outputs": [
    {
     "name": "stdout",
     "output_type": "stream",
     "text": [
      "enter a number2.3\n",
      "a is 2.4\n"
     ]
    }
   ],
   "source": [
    "a=float(input(\"enter a number\"))\n",
    "match a:\n",
    "    case 3:\n",
    "        print(\"a is three\")\n",
    "    case 2.3:\n",
    "        print(\"a is 2.4\")"
   ]
  },
  {
   "cell_type": "code",
   "execution_count": null,
   "id": "bc01ceab",
   "metadata": {},
   "outputs": [],
   "source": []
  },
  {
   "cell_type": "code",
   "execution_count": 11,
   "id": "eb3ad10c",
   "metadata": {},
   "outputs": [
    {
     "name": "stdout",
     "output_type": "stream",
     "text": [
      "hyder\n",
      "hyder\n",
      "hyder\n",
      "hyder\n",
      "hyder\n"
     ]
    }
   ],
   "source": [
    "a=\"hyder\"\n",
    "for i in a:\n",
    " print(a)"
   ]
  },
  {
   "cell_type": "code",
   "execution_count": 16,
   "id": "4d007e41",
   "metadata": {},
   "outputs": [
    {
     "name": "stdout",
     "output_type": "stream",
     "text": [
      "red\n",
      "blue\n",
      "pink\n",
      "orange\n"
     ]
    }
   ],
   "source": [
    "a=[\"red\",\"blue\",\"pink\",\"orange\"]\n",
    "for i in a:\n",
    "    print(i)"
   ]
  },
  {
   "cell_type": "code",
   "execution_count": 18,
   "id": "b5fddec9",
   "metadata": {},
   "outputs": [
    {
     "ename": "IndentationError",
     "evalue": "expected an indented block after 'for' statement on line 1 (3430008702.py, line 2)",
     "output_type": "error",
     "traceback": [
      "\u001b[1;36m  Cell \u001b[1;32mIn[18], line 2\u001b[1;36m\u001b[0m\n\u001b[1;33m    print(k)\u001b[0m\n\u001b[1;37m    ^\u001b[0m\n\u001b[1;31mIndentationError\u001b[0m\u001b[1;31m:\u001b[0m expected an indented block after 'for' statement on line 1\n"
     ]
    }
   ],
   "source": [
    "for k in range(0,5):\n",
    "print(k)"
   ]
  },
  {
   "cell_type": "code",
   "execution_count": 19,
   "id": "1cb8c9ae",
   "metadata": {},
   "outputs": [
    {
     "name": "stdout",
     "output_type": "stream",
     "text": [
      "0\n",
      "1\n",
      "2\n",
      "3\n",
      "4\n"
     ]
    }
   ],
   "source": [
    "for k in range(0,5):\n",
    " print(k)"
   ]
  },
  {
   "cell_type": "code",
   "execution_count": 20,
   "id": "cd090418",
   "metadata": {},
   "outputs": [
    {
     "name": "stdout",
     "output_type": "stream",
     "text": [
      "2\n",
      "3\n"
     ]
    }
   ],
   "source": [
    "for k in range(2,4):\n",
    "    print(k)"
   ]
  },
  {
   "cell_type": "code",
   "execution_count": 21,
   "id": "c9d71a1d",
   "metadata": {},
   "outputs": [
    {
     "name": "stdout",
     "output_type": "stream",
     "text": [
      "2\n",
      "4\n",
      "6\n",
      "8\n",
      "10\n",
      "12\n",
      "14\n",
      "16\n",
      "18\n"
     ]
    }
   ],
   "source": [
    "for k in range(2,20,2):\n",
    "    print(k)"
   ]
  },
  {
   "cell_type": "code",
   "execution_count": 23,
   "id": "eec2a7c1",
   "metadata": {},
   "outputs": [
    {
     "name": "stdout",
     "output_type": "stream",
     "text": [
      "1\n",
      "3\n",
      "5\n",
      "7\n",
      "9\n",
      "11\n",
      "13\n",
      "15\n",
      "17\n",
      "19\n",
      "21\n",
      "23\n",
      "25\n",
      "27\n",
      "29\n"
     ]
    }
   ],
   "source": [
    "for k in range(1,30,2):\n",
    "    print(k)"
   ]
  },
  {
   "cell_type": "code",
   "execution_count": 24,
   "id": "bf37b82d",
   "metadata": {},
   "outputs": [
    {
     "name": "stdout",
     "output_type": "stream",
     "text": [
      "0\n",
      "5\n",
      "10\n",
      "15\n",
      "20\n",
      "25\n",
      "30\n",
      "35\n",
      "40\n",
      "45\n"
     ]
    }
   ],
   "source": [
    "for k in range(0,50,5):\n",
    "    print(k)"
   ]
  },
  {
   "cell_type": "code",
   "execution_count": 25,
   "id": "127b611b",
   "metadata": {},
   "outputs": [
    {
     "ename": "NameError",
     "evalue": "name 'd' is not defined",
     "output_type": "error",
     "traceback": [
      "\u001b[1;31m---------------------------------------------------------------------------\u001b[0m",
      "\u001b[1;31mNameError\u001b[0m                                 Traceback (most recent call last)",
      "Cell \u001b[1;32mIn[25], line 1\u001b[0m\n\u001b[1;32m----> 1\u001b[0m \u001b[38;5;28;01mfor\u001b[39;00m k \u001b[38;5;129;01min\u001b[39;00m \u001b[38;5;28mrange\u001b[39m(a,\u001b[43md\u001b[49m,b):\n\u001b[0;32m      2\u001b[0m     \u001b[38;5;28mprint\u001b[39m(k)\n",
      "\u001b[1;31mNameError\u001b[0m: name 'd' is not defined"
     ]
    }
   ],
   "source": [
    "for k in range(a,d,b):\n",
    "    print(k)"
   ]
  },
  {
   "cell_type": "code",
   "execution_count": 26,
   "id": "3fff80fa",
   "metadata": {},
   "outputs": [
    {
     "name": "stdout",
     "output_type": "stream",
     "text": [
      "enter a number:2\n",
      "2\n",
      "3\n",
      "4\n",
      "5\n",
      "6\n",
      "7\n",
      "8\n",
      "9\n"
     ]
    }
   ],
   "source": [
    "a=int(input(\"enter a number:\"))\n",
    "while(a<10):\n",
    "    print(a)\n",
    "    a=a+1"
   ]
  },
  {
   "cell_type": "code",
   "execution_count": 28,
   "id": "ae0aa2e1",
   "metadata": {},
   "outputs": [
    {
     "name": "stdout",
     "output_type": "stream",
     "text": [
      "enter a number:9\n",
      "a is not even\n"
     ]
    }
   ],
   "source": [
    "a=int(input(\"enter a number:\"))\n",
    "while(a/2==0):\n",
    "    print(\"a is even number\")\n",
    "else:\n",
    "    print(\"a is not even\")\n",
    "    a=a+1"
   ]
  },
  {
   "cell_type": "code",
   "execution_count": null,
   "id": "0545d009",
   "metadata": {},
   "outputs": [],
   "source": [
    "a=10\n",
    "while(a>15):\n",
    "    print(\"a is even number\")\n",
    "    a=a+1"
   ]
  },
  {
   "cell_type": "code",
   "execution_count": null,
   "id": "4fbda444",
   "metadata": {},
   "outputs": [],
   "source": [
    "a=20\n",
    "while(a<25):\n",
    "    print(a)\n",
    "    "
   ]
  },
  {
   "cell_type": "code",
   "execution_count": 1,
   "id": "b8f8cb3a",
   "metadata": {},
   "outputs": [
    {
     "name": "stdout",
     "output_type": "stream",
     "text": [
      "wlecome again\n"
     ]
    }
   ],
   "source": [
    "print(\"wlecome again\")"
   ]
  },
  {
   "cell_type": "code",
   "execution_count": 9,
   "id": "a641ed3e",
   "metadata": {},
   "outputs": [],
   "source": [
    "#break\n",
    "for i in range(15):\n",
    "    if(i==10):\n",
    "        break\n",
    "        print(i)"
   ]
  },
  {
   "cell_type": "code",
   "execution_count": 10,
   "id": "73408e8e",
   "metadata": {},
   "outputs": [],
   "source": [
    "#break\n",
    "for i in range(15):\n",
    "    if(i==10):\n",
    "        break\n",
    "        print(i)"
   ]
  },
  {
   "cell_type": "code",
   "execution_count": 11,
   "id": "220ffa01",
   "metadata": {},
   "outputs": [
    {
     "name": "stdout",
     "output_type": "stream",
     "text": [
      "[10, 25, 58, 77]\n"
     ]
    }
   ],
   "source": [
    "list=[10,25,58,77,]\n",
    "print(list)"
   ]
  },
  {
   "cell_type": "code",
   "execution_count": 12,
   "id": "da2be13b",
   "metadata": {},
   "outputs": [
    {
     "name": "stdout",
     "output_type": "stream",
     "text": [
      "58\n"
     ]
    }
   ],
   "source": [
    "#positive indexing\n",
    "print(list[2])"
   ]
  },
  {
   "cell_type": "code",
   "execution_count": 13,
   "id": "b2f7ce0e",
   "metadata": {},
   "outputs": [
    {
     "ename": "NameError",
     "evalue": "name 'ptint' is not defined",
     "output_type": "error",
     "traceback": [
      "\u001b[1;31m---------------------------------------------------------------------------\u001b[0m",
      "\u001b[1;31mNameError\u001b[0m                                 Traceback (most recent call last)",
      "Cell \u001b[1;32mIn[13], line 2\u001b[0m\n\u001b[0;32m      1\u001b[0m \u001b[38;5;66;03m#negitive indexing\u001b[39;00m\n\u001b[1;32m----> 2\u001b[0m \u001b[43mptint\u001b[49m(\u001b[38;5;28mlist\u001b[39m[\u001b[38;5;241m-\u001b[39m\u001b[38;5;241m2\u001b[39m])\n",
      "\u001b[1;31mNameError\u001b[0m: name 'ptint' is not defined"
     ]
    }
   ],
   "source": [
    "#negitive indexing\n",
    "ptint(list[-2])"
   ]
  },
  {
   "cell_type": "code",
   "execution_count": 15,
   "id": "81eb080e",
   "metadata": {},
   "outputs": [
    {
     "name": "stdout",
     "output_type": "stream",
     "text": [
      "58\n"
     ]
    }
   ],
   "source": [
    "\n",
    "#negitive indexing\n",
    "print(list[-2])\n"
   ]
  },
  {
   "cell_type": "code",
   "execution_count": 16,
   "id": "686ffe59",
   "metadata": {},
   "outputs": [
    {
     "name": "stdout",
     "output_type": "stream",
     "text": [
      "77\n"
     ]
    }
   ],
   "source": [
    "print(list[1-2])\n",
    "#1-2=-1"
   ]
  },
  {
   "cell_type": "code",
   "execution_count": 20,
   "id": "4403b416",
   "metadata": {},
   "outputs": [
    {
     "name": "stdout",
     "output_type": "stream",
     "text": [
      "[3, 'hyder']\n"
     ]
    }
   ],
   "source": [
    "lst2=[2,3,4,\"ali\",\"hyder\",33,88,\"shaik\"]\n",
    "print(lst2[1:7:3])"
   ]
  },
  {
   "cell_type": "code",
   "execution_count": 21,
   "id": "de7c45cf",
   "metadata": {},
   "outputs": [
    {
     "name": "stdout",
     "output_type": "stream",
     "text": [
      "[10, 25, 58, 77, 2, 3, 4, 'ali', 'hyder', 33, 88, 'shaik']\n"
     ]
    }
   ],
   "source": [
    "lst3=list+lst2\n",
    "print(lst3)"
   ]
  },
  {
   "cell_type": "code",
   "execution_count": 22,
   "id": "f1213de3",
   "metadata": {},
   "outputs": [
    {
     "name": "stdout",
     "output_type": "stream",
     "text": [
      "[25, 77, 3, 'ali']\n"
     ]
    }
   ],
   "source": [
    "print(lst3[1:8:2])\n",
    "#jumping indexing values"
   ]
  },
  {
   "cell_type": "code",
   "execution_count": 23,
   "id": "1f100aed",
   "metadata": {},
   "outputs": [
    {
     "name": "stdout",
     "output_type": "stream",
     "text": [
      "[2, 3, 4, 'ali', 'hyder', 33, 88, 'shaik', 99]\n",
      "[10, 25, 58, 77]\n"
     ]
    }
   ],
   "source": [
    "lst2.append(99)\n",
    "print(lst2)\n",
    "list.sort\n",
    "print(list)"
   ]
  },
  {
   "cell_type": "code",
   "execution_count": 29,
   "id": "3802f87d",
   "metadata": {},
   "outputs": [
    {
     "ename": "TypeError",
     "evalue": "list.count() takes exactly one argument (0 given)",
     "output_type": "error",
     "traceback": [
      "\u001b[1;31m---------------------------------------------------------------------------\u001b[0m",
      "\u001b[1;31mTypeError\u001b[0m                                 Traceback (most recent call last)",
      "Cell \u001b[1;32mIn[29], line 1\u001b[0m\n\u001b[1;32m----> 1\u001b[0m \u001b[43mlst2\u001b[49m\u001b[38;5;241;43m.\u001b[39;49m\u001b[43mcount\u001b[49m\u001b[43m(\u001b[49m\u001b[43m)\u001b[49m\n\u001b[0;32m      2\u001b[0m \u001b[38;5;28mprint\u001b[39m(count(lst2))\n",
      "\u001b[1;31mTypeError\u001b[0m: list.count() takes exactly one argument (0 given)"
     ]
    }
   ],
   "source": [
    "lst2.count()\n",
    "print(count(lst2))"
   ]
  },
  {
   "cell_type": "code",
   "execution_count": 30,
   "id": "5bea0329",
   "metadata": {},
   "outputs": [
    {
     "ename": "SyntaxError",
     "evalue": "invalid syntax (3977304786.py, line 1)",
     "output_type": "error",
     "traceback": [
      "\u001b[1;36m  Cell \u001b[1;32mIn[30], line 1\u001b[1;36m\u001b[0m\n\u001b[1;33m    lst4=[23,34,5,6,23,,656,,23243,4]\u001b[0m\n\u001b[1;37m                       ^\u001b[0m\n\u001b[1;31mSyntaxError\u001b[0m\u001b[1;31m:\u001b[0m invalid syntax\n"
     ]
    }
   ],
   "source": [
    "lst4=[23,34,5,6,23,,66576585876,,23,4]\n",
    "list.extend(lst4)\n",
    "print(list)"
   ]
  },
  {
   "cell_type": "code",
   "execution_count": 32,
   "id": "1411f539",
   "metadata": {},
   "outputs": [
    {
     "name": "stdout",
     "output_type": "stream",
     "text": [
      "[10, 25, 58, 77, 23, 34, 5, 6, 23, 66576585876, 23, 4]\n"
     ]
    }
   ],
   "source": [
    "lst4=[23,34,5,6,23,66576585876,23,4]\n",
    "list.extend(lst4)\n",
    "print(list)"
   ]
  },
  {
   "cell_type": "code",
   "execution_count": 39,
   "id": "2f9f46f7",
   "metadata": {},
   "outputs": [
    {
     "name": "stdout",
     "output_type": "stream",
     "text": [
      "[0, 1, 4, 9, 16, 25, 36, 49, 64, 81]\n"
     ]
    }
   ],
   "source": [
    "list6=[i*i for i in range(10)]\n",
    "if(i%2==0):\n",
    "    print(list6)"
   ]
  },
  {
   "cell_type": "code",
   "execution_count": 42,
   "id": "d9875708",
   "metadata": {},
   "outputs": [
    {
     "name": "stdout",
     "output_type": "stream",
     "text": [
      "['shaik', 'hyder', 'ali']\n",
      "byee done for day\n"
     ]
    }
   ],
   "source": [
    "list=[\"shaik\",\"hyder\",\"ali\"]\n",
    "print(list)\n",
    "print(\"byee done for day\")"
   ]
  },
  {
   "cell_type": "code",
   "execution_count": 1,
   "id": "312cf6d7",
   "metadata": {},
   "outputs": [
    {
     "ename": "NameError",
     "evalue": "name 'tup' is not defined",
     "output_type": "error",
     "traceback": [
      "\u001b[1;31m---------------------------------------------------------------------------\u001b[0m",
      "\u001b[1;31mNameError\u001b[0m                                 Traceback (most recent call last)",
      "Cell \u001b[1;32mIn[1], line 3\u001b[0m\n\u001b[0;32m      1\u001b[0m \u001b[38;5;66;03m#tuple\u001b[39;00m\n\u001b[0;32m      2\u001b[0m tuo\u001b[38;5;241m=\u001b[39m(\u001b[38;5;241m1\u001b[39m,\u001b[38;5;241m2\u001b[39m,\u001b[38;5;241m3\u001b[39m,\u001b[38;5;241m4\u001b[39m)\n\u001b[1;32m----> 3\u001b[0m \u001b[38;5;28mprint\u001b[39m(\u001b[43mtup\u001b[49m)\n",
      "\u001b[1;31mNameError\u001b[0m: name 'tup' is not defined"
     ]
    }
   ],
   "source": [
    "#tuple\n",
    "tuo=(1,2,3,4)\n",
    "print(tup)"
   ]
  },
  {
   "cell_type": "code",
   "execution_count": 2,
   "id": "764ab95b",
   "metadata": {},
   "outputs": [
    {
     "name": "stdout",
     "output_type": "stream",
     "text": [
      "(1, 2, 3, 4)\n"
     ]
    }
   ],
   "source": [
    "#tuple\n",
    "tup=(1,2,3,4)\n",
    "print(tup)"
   ]
  },
  {
   "cell_type": "code",
   "execution_count": 5,
   "id": "8d289025",
   "metadata": {},
   "outputs": [
    {
     "name": "stdout",
     "output_type": "stream",
     "text": [
      "<class 'tuple'>\n"
     ]
    }
   ],
   "source": [
    "tup2=(2,)\n",
    "print(type(tup2))"
   ]
  },
  {
   "cell_type": "code",
   "execution_count": 7,
   "id": "4a7a404f",
   "metadata": {},
   "outputs": [
    {
     "name": "stdout",
     "output_type": "stream",
     "text": [
      "<class 'int'>\n"
     ]
    }
   ],
   "source": [
    "tup3=(2)\n",
    "print(type(tup3))\n",
    "#difference between tup2 and tup3 is comma(,)"
   ]
  },
  {
   "cell_type": "code",
   "execution_count": 12,
   "id": "30ac5cc7",
   "metadata": {},
   "outputs": [
    {
     "name": "stdout",
     "output_type": "stream",
     "text": [
      "WELCOME TO KBC\n",
      "who is hyder ali?\n",
      "correct answer: king solider lion\n"
     ]
    }
   ],
   "source": [
    "print(\"WELCOME TO KBC\")\n",
    "print(\"who is hyder ali?\")\n",
    "opa=\"king\"\n",
    "opb=\"solider\"\n",
    "opc=\"lion\"\n",
    "print(\"correct answer:\",opa,opb,opc)\n"
   ]
  },
  {
   "cell_type": "code",
   "execution_count": 1,
   "id": "4960484e",
   "metadata": {},
   "outputs": [
    {
     "ename": "SyntaxError",
     "evalue": "invalid syntax. Perhaps you forgot a comma? (531271804.py, line 3)",
     "output_type": "error",
     "traceback": [
      "\u001b[1;36m  Cell \u001b[1;32mIn[1], line 3\u001b[1;36m\u001b[0m\n\u001b[1;33m    if(correct answer==opa):\u001b[0m\n\u001b[1;37m       ^\u001b[0m\n\u001b[1;31mSyntaxError\u001b[0m\u001b[1;31m:\u001b[0m invalid syntax. Perhaps you forgot a comma?\n"
     ]
    }
   ],
   "source": [
    "option=[\"select correct answer:\"]\n",
    "print(option)\n",
    "if(correct answer==opa):\n",
    "    print(\"king\",opa)\n",
    "elif(correct answer==opb):\n",
    "    print(\"solider\",opb)\n",
    "else:\n",
    "    print(\"lion\",opc)"
   ]
  },
  {
   "cell_type": "code",
   "execution_count": 11,
   "id": "4efdfe98",
   "metadata": {},
   "outputs": [
    {
     "name": "stdout",
     "output_type": "stream",
     "text": [
      "WELCOME TO KBC\n",
      "who is hyder ali?\n",
      "choose correct answer:king\n",
      "hyder is a king\n",
      "congrats you won 10cr.........\n"
     ]
    }
   ],
   "source": [
    "print(\"WELCOME TO KBC\")\n",
    "print(\"who is hyder ali?\")\n",
    "opa=\"king\"\n",
    "opb=\"solider\"\n",
    "opc=\"lion\"\n",
    "option=input(\"choose correct answer:\")\n",
    "if(option==opa):\n",
    "    print(\"hyder is a king\")\n",
    "elif(option==opb):\n",
    "    print(\"hyder is a solider\")\n",
    "else:\n",
    "    print(\"hyder is lion\")\n",
    "print(\"congrats you won 10cr.........\")"
   ]
  },
  {
   "cell_type": "code",
   "execution_count": 4,
   "id": "b0b6be92",
   "metadata": {},
   "outputs": [],
   "source": [
    "#recurssion\n",
    "def factorial(n):\n",
    "    if(n==0):\n",
    "        return 0\n",
    "    else:\n",
    "        return n * factorial(n-1)\n",
    "    print(factorial(6))"
   ]
  },
  {
   "cell_type": "code",
   "execution_count": 5,
   "id": "d0e5f999",
   "metadata": {},
   "outputs": [
    {
     "name": "stdout",
     "output_type": "stream",
     "text": [
      "720\n"
     ]
    }
   ],
   "source": [
    "#recurssion\n",
    "def factorial(n):\n",
    "    if(n==0):\n",
    "        return 1\n",
    "    else:\n",
    "        return n * factorial(n-1)\n",
    "print(factorial(6))"
   ]
  },
  {
   "cell_type": "code",
   "execution_count": 3,
   "id": "6aa7fc88",
   "metadata": {},
   "outputs": [
    {
     "name": "stdout",
     "output_type": "stream",
     "text": [
      "1\n",
      "2\n",
      "4\n",
      "8\n",
      "16\n",
      "32\n",
      "64\n",
      "128\n",
      "256\n",
      "512\n"
     ]
    }
   ],
   "source": [
    "#recurssion\n",
    "def fibonacci(n):\n",
    "    if(n==0):\n",
    "        return 1\n",
    "    else:\n",
    "        return fibonacci(n-1)+fibonacci(n-1)\n",
    "for i in range(10):\n",
    "    print(fibonacci(i))"
   ]
  },
  {
   "cell_type": "code",
   "execution_count": 2,
   "id": "c4d5a52e",
   "metadata": {},
   "outputs": [
    {
     "name": "stdout",
     "output_type": "stream",
     "text": [
      "hello world\n"
     ]
    }
   ],
   "source": [
    "print(\"hello world\")"
   ]
  },
  {
   "cell_type": "code",
   "execution_count": null,
   "id": "1d31b379",
   "metadata": {},
   "outputs": [],
   "source": [
    "def fibonacci(n):\n",
    "    if(n==1):\n",
    "        return 0\n",
    "    else:\n",
    "        return fibonacci(n-1)+fibonacci(n-1)\n",
    "for i in range(10):\n",
    "    print(fibonacci(i))"
   ]
  },
  {
   "cell_type": "code",
   "execution_count": 2,
   "id": "0ea958ce",
   "metadata": {},
   "outputs": [
    {
     "name": "stdout",
     "output_type": "stream",
     "text": [
      "{1, 2, 3, 4, 33}\n"
     ]
    }
   ],
   "source": [
    "set={1,2,3,33,4,2,3,4}\n",
    "print(set)"
   ]
  },
  {
   "cell_type": "code",
   "execution_count": 6,
   "id": "3adbd4d4",
   "metadata": {},
   "outputs": [
    {
     "ename": "SyntaxError",
     "evalue": "expected ':' (2408586305.py, line 4)",
     "output_type": "error",
     "traceback": [
      "\u001b[1;36m  Cell \u001b[1;32mIn[6], line 4\u001b[1;36m\u001b[0m\n\u001b[1;33m    else f(n-1)-f(n-2)\u001b[0m\n\u001b[1;37m         ^\u001b[0m\n\u001b[1;31mSyntaxError\u001b[0m\u001b[1;31m:\u001b[0m expected ':'\n"
     ]
    }
   ],
   "source": [
    "def fibnocci(n):\n",
    "    if(n==1):\n",
    "        return 1\n",
    "    elsef(n-1)-f(n-2)\n",
    "print(fibnocci(3))\n",
    "    "
   ]
  },
  {
   "cell_type": "code",
   "execution_count": 9,
   "id": "7ba82c13",
   "metadata": {},
   "outputs": [
    {
     "ename": "SyntaxError",
     "evalue": "invalid syntax (4085217319.py, line 6)",
     "output_type": "error",
     "traceback": [
      "\u001b[1;36m  Cell \u001b[1;32mIn[9], line 6\u001b[1;36m\u001b[0m\n\u001b[1;33m    for i n range(12):\u001b[0m\n\u001b[1;37m          ^\u001b[0m\n\u001b[1;31mSyntaxError\u001b[0m\u001b[1;31m:\u001b[0m invalid syntax\n"
     ]
    }
   ],
   "source": [
    "def fibnocci(n):\n",
    "    if(n==1):\n",
    "        return 1\n",
    "    else:\n",
    "        f(n-1)-f(n-2)\n",
    "for i n range(12):\n",
    "    print(fibnocci(i))"
   ]
  },
  {
   "cell_type": "code",
   "execution_count": 11,
   "id": "34251f71",
   "metadata": {},
   "outputs": [
    {
     "ename": "SyntaxError",
     "evalue": "invalid syntax (1206552529.py, line 6)",
     "output_type": "error",
     "traceback": [
      "\u001b[1;36m  Cell \u001b[1;32mIn[11], line 6\u001b[1;36m\u001b[0m\n\u001b[1;33m    for i n range(12):\u001b[0m\n\u001b[1;37m          ^\u001b[0m\n\u001b[1;31mSyntaxError\u001b[0m\u001b[1;31m:\u001b[0m invalid syntax\n"
     ]
    }
   ],
   "source": [
    "def fibnocci(n):\n",
    "    if(n==1):\n",
    "        return 1\n",
    "    else:\n",
    "        return f(n-1)-f(n-2)\n",
    "for i n range(12):\n",
    "    print(fibnocci(i))"
   ]
  },
  {
   "cell_type": "code",
   "execution_count": 13,
   "id": "3645b8b4",
   "metadata": {},
   "outputs": [
    {
     "name": "stdout",
     "output_type": "stream",
     "text": [
      "1\n"
     ]
    },
    {
     "ename": "NameError",
     "evalue": "name 'f' is not defined",
     "output_type": "error",
     "traceback": [
      "\u001b[1;31m---------------------------------------------------------------------------\u001b[0m",
      "\u001b[1;31mNameError\u001b[0m                                 Traceback (most recent call last)",
      "Cell \u001b[1;32mIn[13], line 7\u001b[0m\n\u001b[0;32m      5\u001b[0m         \u001b[38;5;28;01mreturn\u001b[39;00m fibonacci(n\u001b[38;5;241m-\u001b[39m\u001b[38;5;241m1\u001b[39m)\u001b[38;5;241m-\u001b[39mfibonacci(n\u001b[38;5;241m-\u001b[39m\u001b[38;5;241m2\u001b[39m)\n\u001b[0;32m      6\u001b[0m \u001b[38;5;28;01mfor\u001b[39;00m i \u001b[38;5;129;01min\u001b[39;00m \u001b[38;5;28mrange\u001b[39m(\u001b[38;5;241m1\u001b[39m,\u001b[38;5;241m12\u001b[39m,\u001b[38;5;241m3\u001b[39m):\n\u001b[1;32m----> 7\u001b[0m     \u001b[38;5;28mprint\u001b[39m(\u001b[43mfibnocci\u001b[49m\u001b[43m(\u001b[49m\u001b[43mi\u001b[49m\u001b[43m)\u001b[49m)\n",
      "Cell \u001b[1;32mIn[12], line 5\u001b[0m, in \u001b[0;36mfibnocci\u001b[1;34m(n)\u001b[0m\n\u001b[0;32m      3\u001b[0m     \u001b[38;5;28;01mreturn\u001b[39;00m \u001b[38;5;241m1\u001b[39m\n\u001b[0;32m      4\u001b[0m \u001b[38;5;28;01melse\u001b[39;00m:\n\u001b[1;32m----> 5\u001b[0m     \u001b[38;5;28;01mreturn\u001b[39;00m \u001b[43mf\u001b[49m(n\u001b[38;5;241m-\u001b[39m\u001b[38;5;241m1\u001b[39m)\u001b[38;5;241m-\u001b[39mf(n\u001b[38;5;241m-\u001b[39m\u001b[38;5;241m2\u001b[39m)\n",
      "\u001b[1;31mNameError\u001b[0m: name 'f' is not defined"
     ]
    }
   ],
   "source": [
    "def fibonacci(n):\n",
    "    if(n==1):\n",
    "        return 1\n",
    "    else:\n",
    "        return fibonacci(n-1)-fibonacci(n-2)\n",
    "for i in range(1,12,3):\n",
    "    print(fibonocci(i))"
   ]
  },
  {
   "cell_type": "code",
   "execution_count": 1,
   "id": "b025601e",
   "metadata": {},
   "outputs": [
    {
     "name": "stdout",
     "output_type": "stream",
     "text": [
      "{1, 2, 3, 4}\n"
     ]
    }
   ],
   "source": [
    "#sets\n",
    "set1={1,2,3,3,4,4,2,2}\n",
    "print(set1)"
   ]
  },
  {
   "cell_type": "code",
   "execution_count": 4,
   "id": "6b1dd382",
   "metadata": {},
   "outputs": [
    {
     "name": "stdout",
     "output_type": "stream",
     "text": [
      "{2, 3, 'w', 'e', 'hyder'}\n"
     ]
    }
   ],
   "source": [
    "set2={\"hyder\",3,2,\"w\",3,2,\"e\",\"w\"}\n",
    "print(set2)"
   ]
  },
  {
   "cell_type": "code",
   "execution_count": 6,
   "id": "ba14ed37",
   "metadata": {},
   "outputs": [
    {
     "name": "stdout",
     "output_type": "stream",
     "text": [
      "{2, 3, 'w', 'e', 'hyder'}\n"
     ]
    }
   ],
   "source": [
    "set2.add(3)\n",
    "print(set2)"
   ]
  },
  {
   "cell_type": "code",
   "execution_count": 7,
   "id": "bbdd1e37",
   "metadata": {},
   "outputs": [
    {
     "data": {
      "text/plain": [
       "{1, 2, 3, 4, 'e', 'hyder', 'w'}"
      ]
     },
     "execution_count": 7,
     "metadata": {},
     "output_type": "execute_result"
    }
   ],
   "source": [
    "set1.union(set2)"
   ]
  },
  {
   "cell_type": "code",
   "execution_count": 8,
   "id": "e5f32abe",
   "metadata": {},
   "outputs": [
    {
     "data": {
      "text/plain": [
       "{2, 3}"
      ]
     },
     "execution_count": 8,
     "metadata": {},
     "output_type": "execute_result"
    }
   ],
   "source": [
    "set1.intersection(set2)"
   ]
  },
  {
   "cell_type": "code",
   "execution_count": 11,
   "id": "92555384",
   "metadata": {},
   "outputs": [
    {
     "ename": "TypeError",
     "evalue": "unhashable type: 'set'",
     "output_type": "error",
     "traceback": [
      "\u001b[1;31m---------------------------------------------------------------------------\u001b[0m",
      "\u001b[1;31mTypeError\u001b[0m                                 Traceback (most recent call last)",
      "Cell \u001b[1;32mIn[11], line 1\u001b[0m\n\u001b[1;32m----> 1\u001b[0m set3\u001b[38;5;241m=\u001b[39m\u001b[43mset1\u001b[49m\u001b[38;5;241;43m.\u001b[39;49m\u001b[43madd\u001b[49m\u001b[43m(\u001b[49m\u001b[43mset2\u001b[49m\u001b[43m)\u001b[49m\n\u001b[0;32m      2\u001b[0m \u001b[38;5;28mprint\u001b[39m(set3)\n",
      "\u001b[1;31mTypeError\u001b[0m: unhashable type: 'set'"
     ]
    }
   ],
   "source": [
    "set3=set1.add(set2)\n",
    "print(set3)"
   ]
  },
  {
   "cell_type": "code",
   "execution_count": 12,
   "id": "e967045e",
   "metadata": {},
   "outputs": [
    {
     "ename": "SyntaxError",
     "evalue": "unterminated string literal (detected at line 1) (933534554.py, line 1)",
     "output_type": "error",
     "traceback": [
      "\u001b[1;36m  Cell \u001b[1;32mIn[12], line 1\u001b[1;36m\u001b[0m\n\u001b[1;33m    printbyee\")\u001b[0m\n\u001b[1;37m             ^\u001b[0m\n\u001b[1;31mSyntaxError\u001b[0m\u001b[1;31m:\u001b[0m unterminated string literal (detected at line 1)\n"
     ]
    }
   ],
   "source": [
    "printbyee\")"
   ]
  },
  {
   "cell_type": "code",
   "execution_count": 15,
   "id": "1514c15e",
   "metadata": {},
   "outputs": [
    {
     "name": "stdout",
     "output_type": "stream",
     "text": [
      "byee.....\"todays job done\"\n"
     ]
    }
   ],
   "source": [
    "print('''byee.....\"todays job done\"''')"
   ]
  },
  {
   "cell_type": "code",
   "execution_count": 4,
   "id": "d452a595",
   "metadata": {},
   "outputs": [
    {
     "ename": "NameError",
     "evalue": "name 'name' is not defined",
     "output_type": "error",
     "traceback": [
      "\u001b[1;31m---------------------------------------------------------------------------\u001b[0m",
      "\u001b[1;31mNameError\u001b[0m                                 Traceback (most recent call last)",
      "Cell \u001b[1;32mIn[4], line 2\u001b[0m\n\u001b[0;32m      1\u001b[0m \u001b[38;5;28mdict\u001b[39m\u001b[38;5;241m=\u001b[39m{\n\u001b[1;32m----> 2\u001b[0m     \u001b[43mname\u001b[49m\u001b[38;5;241m==\u001b[39m\u001b[38;5;124m\"\u001b[39m\u001b[38;5;124mhyder\u001b[39m\u001b[38;5;124m\"\u001b[39m,\n\u001b[0;32m      3\u001b[0m     roll\u001b[38;5;241m==\u001b[39m\u001b[38;5;241m23\u001b[39m,\n\u001b[0;32m      4\u001b[0m     section\u001b[38;5;241m==\u001b[39m\u001b[38;5;124m\"\u001b[39m\u001b[38;5;124mcsd\u001b[39m\u001b[38;5;124m\"\u001b[39m,\n\u001b[0;32m      5\u001b[0m }\n\u001b[0;32m      6\u001b[0m \u001b[38;5;28mprint\u001b[39m(\u001b[38;5;28mdict\u001b[39m)\n",
      "\u001b[1;31mNameError\u001b[0m: name 'name' is not defined"
     ]
    }
   ],
   "source": [
    "dict={\n",
    "    name==\"hyder\",\n",
    "    roll==23,\n",
    "    section==\"csd\",\n",
    "}\n",
    "print(dict)"
   ]
  },
  {
   "cell_type": "code",
   "execution_count": 5,
   "id": "b4d4bb8d",
   "metadata": {},
   "outputs": [
    {
     "name": "stdout",
     "output_type": "stream",
     "text": [
      "{'name': 'hyder', 'rollno': 19, 'class': 'csd'}\n"
     ]
    }
   ],
   "source": [
    "dict={\n",
    "    'name':'hyder',\n",
    "    'rollno':19,\n",
    "    'class':'csd'\n",
    "}\n",
    "print(dict)"
   ]
  },
  {
   "cell_type": "code",
   "execution_count": 8,
   "id": "1bb16c26",
   "metadata": {},
   "outputs": [
    {
     "name": "stdout",
     "output_type": "stream",
     "text": [
      "19\n"
     ]
    }
   ],
   "source": [
    "print(dict.get('rollno'))"
   ]
  },
  {
   "cell_type": "code",
   "execution_count": 10,
   "id": "b7338b55",
   "metadata": {},
   "outputs": [
    {
     "name": "stdout",
     "output_type": "stream",
     "text": [
      "hyder\n"
     ]
    }
   ],
   "source": [
    "print(dict['name'])"
   ]
  },
  {
   "cell_type": "code",
   "execution_count": 11,
   "id": "39fe917c",
   "metadata": {},
   "outputs": [
    {
     "ename": "KeyError",
     "evalue": "'name1'",
     "output_type": "error",
     "traceback": [
      "\u001b[1;31m---------------------------------------------------------------------------\u001b[0m",
      "\u001b[1;31mKeyError\u001b[0m                                  Traceback (most recent call last)",
      "Cell \u001b[1;32mIn[11], line 1\u001b[0m\n\u001b[1;32m----> 1\u001b[0m \u001b[38;5;28mprint\u001b[39m(\u001b[38;5;28;43mdict\u001b[39;49m\u001b[43m[\u001b[49m\u001b[38;5;124;43m'\u001b[39;49m\u001b[38;5;124;43mname1\u001b[39;49m\u001b[38;5;124;43m'\u001b[39;49m\u001b[43m]\u001b[49m)\n",
      "\u001b[1;31mKeyError\u001b[0m: 'name1'"
     ]
    }
   ],
   "source": [
    "print(dict['name1'])"
   ]
  },
  {
   "cell_type": "code",
   "execution_count": 13,
   "id": "a3a0f1e4",
   "metadata": {},
   "outputs": [
    {
     "name": "stdout",
     "output_type": "stream",
     "text": [
      "None\n"
     ]
    }
   ],
   "source": [
    "print(dict.get('name1'))"
   ]
  },
  {
   "cell_type": "code",
   "execution_count": 14,
   "id": "c303f618",
   "metadata": {},
   "outputs": [
    {
     "name": "stdout",
     "output_type": "stream",
     "text": [
      "<class 'dict'>\n"
     ]
    }
   ],
   "source": [
    "print(type(dict))"
   ]
  },
  {
   "cell_type": "code",
   "execution_count": 15,
   "id": "1919b1de",
   "metadata": {},
   "outputs": [
    {
     "name": "stdout",
     "output_type": "stream",
     "text": [
      "1979701135936\n"
     ]
    }
   ],
   "source": [
    "print(id(dict))"
   ]
  },
  {
   "cell_type": "code",
   "execution_count": 17,
   "id": "740faa61",
   "metadata": {},
   "outputs": [
    {
     "name": "stdout",
     "output_type": "stream",
     "text": [
      "hello\n"
     ]
    }
   ],
   "source": [
    "print(\"hello\")"
   ]
  },
  {
   "cell_type": "code",
   "execution_count": 4,
   "id": "df58797f",
   "metadata": {},
   "outputs": [
    {
     "name": "stdout",
     "output_type": "stream",
     "text": [
      "enter a number:500\n",
      "enter a number:500\n",
      "sum of a and b : 1000\n"
     ]
    }
   ],
   "source": [
    "a=int(input(\"enter a number:\"))\n",
    "b=int(input(\"enter a number:\"))\n",
    "c=a*b\n",
    "d=a+b\n",
    "if(c>=1000):\n",
    "    print(\"sum of a and b :\",d)\n",
    "else:\n",
    "    print(\"reult:\",c)"
   ]
  },
  {
   "cell_type": "code",
   "execution_count": 5,
   "id": "9d4e1918",
   "metadata": {},
   "outputs": [
    {
     "name": "stdout",
     "output_type": "stream",
     "text": [
      "1\n",
      "3\n",
      "5\n",
      "7\n",
      "9\n",
      "11\n",
      "13\n",
      "15\n",
      "17\n",
      "19\n"
     ]
    }
   ],
   "source": [
    "#ELSE IN FOR LOOK\n",
    "for i in range(1,21,2):\n",
    "    print(i)"
   ]
  },
  {
   "cell_type": "code",
   "execution_count": 6,
   "id": "aa305c09",
   "metadata": {},
   "outputs": [
    {
     "name": "stdout",
     "output_type": "stream",
     "text": [
      "1\n",
      "3\n",
      "5\n",
      "7\n",
      "9\n",
      "11\n",
      "13\n",
      "15\n",
      "17\n",
      "19\n",
      "i value not available\n"
     ]
    }
   ],
   "source": [
    "#ELSE IN FOR LOOK\n",
    "for i in range(1,21,2):\n",
    "    print(i)\n",
    "else:\n",
    "    print(\"i value not available\")"
   ]
  },
  {
   "cell_type": "code",
   "execution_count": 12,
   "id": "dc5c5622",
   "metadata": {},
   "outputs": [
    {
     "name": "stdout",
     "output_type": "stream",
     "text": [
      "0\n",
      "1\n",
      "2\n",
      "3\n"
     ]
    }
   ],
   "source": [
    "for i in range(6):\n",
    "    print(i)\n",
    "    if(i==3):\n",
    "        break\n",
    "else: \n",
    "    print(\"i value not available\")"
   ]
  },
  {
   "cell_type": "code",
   "execution_count": 13,
   "id": "ee5e26bb",
   "metadata": {},
   "outputs": [
    {
     "name": "stdout",
     "output_type": "stream",
     "text": [
      "1\n",
      "3\n",
      "5\n",
      "7\n",
      "9\n",
      "11\n",
      "13\n",
      "15\n",
      "17\n",
      "19\n",
      "i value not available\n"
     ]
    }
   ],
   "source": [
    "\n",
    "for i in range(1,21,2):\n",
    "    print(i)\n",
    "    if(i==18):\n",
    "        break\n",
    "else:\n",
    "    print(\"i value not available\")"
   ]
  },
  {
   "cell_type": "code",
   "execution_count": 14,
   "id": "f78b97a2",
   "metadata": {},
   "outputs": [
    {
     "name": "stdout",
     "output_type": "stream",
     "text": [
      "1\n",
      "3\n",
      "5\n",
      "7\n",
      "9\n"
     ]
    }
   ],
   "source": [
    "\n",
    "for i in range(1,21,2):\n",
    "    print(i)\n",
    "    if(i==9):\n",
    "        break\n",
    "else:\n",
    "    print(\"i value not available\")"
   ]
  },
  {
   "cell_type": "code",
   "execution_count": 27,
   "id": "04062493",
   "metadata": {},
   "outputs": [
    {
     "ename": "SyntaxError",
     "evalue": "unterminated string literal (detected at line 4) (2199523746.py, line 4)",
     "output_type": "error",
     "traceback": [
      "\u001b[1;36m  Cell \u001b[1;32mIn[27], line 4\u001b[1;36m\u001b[0m\n\u001b[1;33m    print(f\"{int(a)} *{i} = int(a)*{i})\u001b[0m\n\u001b[1;37m          ^\u001b[0m\n\u001b[1;31mSyntaxError\u001b[0m\u001b[1;31m:\u001b[0m unterminated string literal (detected at line 4)\n"
     ]
    }
   ],
   "source": [
    "a=input(\"enter a number:\")\n",
    "print(\"multiplication table of a is\")\n",
    "for i in range(1,11):\n",
    "    print(f\"{int(a)} *{i} = int(a)*{i})"
   ]
  },
  {
   "cell_type": "code",
   "execution_count": null,
   "id": "66516263",
   "metadata": {},
   "outputs": [],
   "source": [
    "try:\n",
    "    num = int(input(\"enter an integer:\"))\n",
    "    a=[3,4]\n",
    "    print(a[num])\n",
    "except valueError:\n",
    "    print(\"number entered is not an integer\")\n",
    "except indexError:\n",
    "    print(\"index error\")\n",
    "    "
   ]
  },
  {
   "cell_type": "code",
   "execution_count": 1,
   "id": "07ec4bd9",
   "metadata": {},
   "outputs": [
    {
     "name": "stdout",
     "output_type": "stream",
     "text": [
      "enter an integer:1\n",
      "4\n"
     ]
    }
   ],
   "source": [
    "try:\n",
    "    num = int(input(\"enter an integer:\"))\n",
    "    a=[3,4]\n",
    "    print(a[num])\n",
    "except valueError:\n",
    "    print(\"number entered is not an integer\")\n",
    "except indexError:\n",
    "    print(\"index error\")"
   ]
  },
  {
   "cell_type": "code",
   "execution_count": 5,
   "id": "0c1ed54e",
   "metadata": {},
   "outputs": [
    {
     "ename": "SyntaxError",
     "evalue": "invalid syntax (1426511977.py, line 5)",
     "output_type": "error",
     "traceback": [
      "\u001b[1;36m  Cell \u001b[1;32mIn[5], line 5\u001b[1;36m\u001b[0m\n\u001b[1;33m    {\u001b[0m\n\u001b[1;37m    ^\u001b[0m\n\u001b[1;31mSyntaxError\u001b[0m\u001b[1;31m:\u001b[0m invalid syntax\n"
     ]
    }
   ],
   "source": [
    "dict={\n",
    "    'name':'hyder',\n",
    "    'section':'csd',\n",
    "    'rollno':9\n",
    "    {\n",
    "        'address':'mainbazar',\n",
    "        'town':'tadipatri'\n",
    "        {\n",
    "            'contact':9441596988,\n",
    "            'mbl':657684687\n",
    "        }\n",
    "    }\n",
    "}\n",
    " print(dict)"
   ]
  },
  {
   "cell_type": "code",
   "execution_count": null,
   "id": "d6fd6ee6",
   "metadata": {},
   "outputs": [],
   "source": []
  },
  {
   "cell_type": "code",
   "execution_count": null,
   "id": "54655d54",
   "metadata": {},
   "outputs": [],
   "source": []
  }
 ],
 "metadata": {
  "kernelspec": {
   "display_name": "Python 3 (ipykernel)",
   "language": "python",
   "name": "python3"
  },
  "language_info": {
   "codemirror_mode": {
    "name": "ipython",
    "version": 3
   },
   "file_extension": ".py",
   "mimetype": "text/x-python",
   "name": "python",
   "nbconvert_exporter": "python",
   "pygments_lexer": "ipython3",
   "version": "3.10.10"
  }
 },
 "nbformat": 4,
 "nbformat_minor": 5
}
