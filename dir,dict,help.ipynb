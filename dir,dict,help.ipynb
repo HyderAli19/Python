{
 "cells": [
  {
   "cell_type": "code",
   "execution_count": 1,
   "id": "ed832c2e",
   "metadata": {},
   "outputs": [
    {
     "ename": "NameError",
     "evalue": "name 'Car' is not defined",
     "output_type": "error",
     "traceback": [
      "\u001b[1;31m---------------------------------------------------------------------------\u001b[0m",
      "\u001b[1;31mNameError\u001b[0m                                 Traceback (most recent call last)",
      "Cell \u001b[1;32mIn[1], line 5\u001b[0m\n\u001b[0;32m      3\u001b[0m         \u001b[38;5;28mself\u001b[39m\u001b[38;5;241m.\u001b[39mname\u001b[38;5;241m=\u001b[39mname\n\u001b[0;32m      4\u001b[0m         \u001b[38;5;28mself\u001b[39m\u001b[38;5;241m.\u001b[39mprice\u001b[38;5;241m=\u001b[39mprice\n\u001b[1;32m----> 5\u001b[0m c1\u001b[38;5;241m=\u001b[39m\u001b[43mCar\u001b[49m(\u001b[38;5;124m'\u001b[39m\u001b[38;5;124maudi\u001b[39m\u001b[38;5;124m'\u001b[39m,\u001b[38;5;241m2345678\u001b[39m)\n\u001b[0;32m      6\u001b[0m c2\u001b[38;5;241m=\u001b[39mCar(\u001b[38;5;124m'\u001b[39m\u001b[38;5;124mbmw\u001b[39m\u001b[38;5;124m'\u001b[39m,\u001b[38;5;241m345678.2342\u001b[39m)\n\u001b[0;32m      7\u001b[0m \u001b[38;5;28mprint\u001b[39m(car\u001b[38;5;241m.\u001b[39mname,car\u001b[38;5;241m.\u001b[39mprice)\n",
      "\u001b[1;31mNameError\u001b[0m: name 'Car' is not defined"
     ]
    }
   ],
   "source": [
    "class Cars:\n",
    "    def __init__(self,name,price):\n",
    "        self.name=name\n",
    "        self.price=price\n",
    "c1=Car('audi',2345678)\n",
    "c2=Car('bmw',345678.2342)\n",
    "print(car.name,car.price)"
   ]
  },
  {
   "cell_type": "code",
   "execution_count": 4,
   "id": "e2f87847",
   "metadata": {},
   "outputs": [
    {
     "name": "stdout",
     "output_type": "stream",
     "text": [
      "audi 2345678\n"
     ]
    },
    {
     "ename": "NameError",
     "evalue": "name 'cars' is not defined",
     "output_type": "error",
     "traceback": [
      "\u001b[1;31m---------------------------------------------------------------------------\u001b[0m",
      "\u001b[1;31mNameError\u001b[0m                                 Traceback (most recent call last)",
      "Cell \u001b[1;32mIn[4], line 8\u001b[0m\n\u001b[0;32m      6\u001b[0m c2\u001b[38;5;241m=\u001b[39mCars(\u001b[38;5;124m'\u001b[39m\u001b[38;5;124mbmw\u001b[39m\u001b[38;5;124m'\u001b[39m,\u001b[38;5;241m345678.2342\u001b[39m)\n\u001b[0;32m      7\u001b[0m \u001b[38;5;28mprint\u001b[39m(c1\u001b[38;5;241m.\u001b[39mname,c1\u001b[38;5;241m.\u001b[39mprice)\n\u001b[1;32m----> 8\u001b[0m \u001b[38;5;28mprint\u001b[39m(\u001b[38;5;28mdir\u001b[39m(\u001b[43mcars\u001b[49m))\n",
      "\u001b[1;31mNameError\u001b[0m: name 'cars' is not defined"
     ]
    }
   ],
   "source": [
    "class Cars:\n",
    "    def __init__(self,name,price):\n",
    "        self.name=name\n",
    "        self.price=price\n",
    "c1=Cars('audi',2345678)\n",
    "c2=Cars('bmw',345678.2342)\n",
    "print(c1.name,c1.price)\n",
    "print(dir(cars))"
   ]
  },
  {
   "cell_type": "code",
   "execution_count": 5,
   "id": "92a67b35",
   "metadata": {},
   "outputs": [
    {
     "name": "stdout",
     "output_type": "stream",
     "text": [
      "audi 2345678\n",
      "['__class__', '__delattr__', '__dict__', '__dir__', '__doc__', '__eq__', '__format__', '__ge__', '__getattribute__', '__gt__', '__hash__', '__init__', '__init_subclass__', '__le__', '__lt__', '__module__', '__ne__', '__new__', '__reduce__', '__reduce_ex__', '__repr__', '__setattr__', '__sizeof__', '__str__', '__subclasshook__', '__weakref__']\n"
     ]
    }
   ],
   "source": [
    "class Cars:\n",
    "    def __init__(self,name,price):\n",
    "        self.name=name\n",
    "        self.price=price\n",
    "c1=Cars('audi',2345678)\n",
    "c2=Cars('bmw',345678.2342)\n",
    "print(c1.name,c1.price)\n",
    "print(dir(Cars))"
   ]
  },
  {
   "cell_type": "code",
   "execution_count": 6,
   "id": "0053e716",
   "metadata": {},
   "outputs": [
    {
     "name": "stdout",
     "output_type": "stream",
     "text": [
      "bmw 345678.2342\n",
      "['__class__', '__delattr__', '__dict__', '__dir__', '__doc__', '__eq__', '__format__', '__ge__', '__getattribute__', '__gt__', '__hash__', '__init__', '__init_subclass__', '__le__', '__lt__', '__module__', '__ne__', '__new__', '__reduce__', '__reduce_ex__', '__repr__', '__setattr__', '__sizeof__', '__str__', '__subclasshook__', '__weakref__']\n"
     ]
    }
   ],
   "source": [
    "class Cars:\n",
    "    def __init__(self,name,price):\n",
    "        self.name=name\n",
    "        self.price=price\n",
    "c1=Cars('audi',2345678)\n",
    "c2=Cars('bmw',345678.2342)\n",
    "print(c2.name,c2.price)\n",
    "print(dir(Cars))"
   ]
  },
  {
   "cell_type": "code",
   "execution_count": 8,
   "id": "4771c9da",
   "metadata": {},
   "outputs": [
    {
     "name": "stdout",
     "output_type": "stream",
     "text": [
      "audi 2345678\n",
      "Help on class Cars in module __main__:\n",
      "\n",
      "class Cars(builtins.object)\n",
      " |  Cars(name, price)\n",
      " |  \n",
      " |  Methods defined here:\n",
      " |  \n",
      " |  __init__(self, name, price)\n",
      " |      Initialize self.  See help(type(self)) for accurate signature.\n",
      " |  \n",
      " |  ----------------------------------------------------------------------\n",
      " |  Data descriptors defined here:\n",
      " |  \n",
      " |  __dict__\n",
      " |      dictionary for instance variables (if defined)\n",
      " |  \n",
      " |  __weakref__\n",
      " |      list of weak references to the object (if defined)\n",
      "\n",
      "None\n"
     ]
    }
   ],
   "source": [
    "class Cars:\n",
    "    def __init__(self,name,price):\n",
    "        self.name=name\n",
    "        self.price=price\n",
    "c1=Cars('audi',2345678)\n",
    "c2=Cars('bmw',345678.2342)\n",
    "print(c1.name,c1.price)\n",
    "print(help(Cars))"
   ]
  },
  {
   "cell_type": "code",
   "execution_count": 9,
   "id": "9ec785f3",
   "metadata": {},
   "outputs": [
    {
     "name": "stdout",
     "output_type": "stream",
     "text": [
      "audi 2345678\n",
      "{'name': 'audi', 'price': 2345678}\n"
     ]
    }
   ],
   "source": [
    "class Cars:\n",
    "    def __init__(self,name,price):\n",
    "        self.name=name\n",
    "        self.price=price\n",
    "c1=Cars('audi',2345678)\n",
    "c2=Cars('bmw',345678.2342)\n",
    "print(c1.name,c1.price)\n",
    "print(c1.__dict__)"
   ]
  },
  {
   "cell_type": "code",
   "execution_count": null,
   "id": "94122271",
   "metadata": {},
   "outputs": [],
   "source": []
  }
 ],
 "metadata": {
  "kernelspec": {
   "display_name": "Python 3 (ipykernel)",
   "language": "python",
   "name": "python3"
  },
  "language_info": {
   "codemirror_mode": {
    "name": "ipython",
    "version": 3
   },
   "file_extension": ".py",
   "mimetype": "text/x-python",
   "name": "python",
   "nbconvert_exporter": "python",
   "pygments_lexer": "ipython3",
   "version": "3.10.10"
  }
 },
 "nbformat": 4,
 "nbformat_minor": 5
}
