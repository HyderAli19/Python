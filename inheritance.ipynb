{
 "cells": [
  {
   "cell_type": "code",
   "execution_count": 7,
   "id": "05823536",
   "metadata": {},
   "outputs": [
    {
     "name": "stdout",
     "output_type": "stream",
     "text": [
      "{'fname': 'rahul', 'lname': 'kaushal', 'salary': 20000, 'age': 23, 'exp': '8yrs'}\n"
     ]
    }
   ],
   "source": [
    "#INHERITANCE...\n",
    "class Employee:\n",
    "    def __init__(self,fname,lname,salary):\n",
    "        self.fname=fname\n",
    "        self.lname=lname\n",
    "        self.salary=salary\n",
    "class Details(Employee):\n",
    "    def __init__(self,fname,lname,salary,age,exp):\n",
    "        super().__init__(fname,lname,salary)\n",
    "        self.age=age\n",
    "        self.exp=exp\n",
    "ob1=Details('rahul','kaushal',20000,23,'8yrs')\n",
    "\n",
    "print(ob1.__dict__)\n"
   ]
  },
  {
   "cell_type": "code",
   "execution_count": 10,
   "id": "c1e9d541",
   "metadata": {},
   "outputs": [
    {
     "ename": "TypeError",
     "evalue": "Nasir() takes no arguments",
     "output_type": "error",
     "traceback": [
      "\u001b[1;31m---------------------------------------------------------------------------\u001b[0m",
      "\u001b[1;31mTypeError\u001b[0m                                 Traceback (most recent call last)",
      "Cell \u001b[1;32mIn[10], line 8\u001b[0m\n\u001b[0;32m      6\u001b[0m     \u001b[38;5;28;01mdef\u001b[39;00m \u001b[38;5;21mstatement\u001b[39m(\u001b[38;5;28mself\u001b[39m):\n\u001b[0;32m      7\u001b[0m         \u001b[38;5;28mprint\u001b[39m(\u001b[38;5;124mf\u001b[39m\u001b[38;5;124m\"\u001b[39m\u001b[38;5;132;01m{\u001b[39;00m\u001b[38;5;28mself\u001b[39m\u001b[38;5;241m.\u001b[39mlname\u001b[38;5;132;01m}\u001b[39;00m\u001b[38;5;124m is grandson of nasir nana\u001b[39m\u001b[38;5;124m\"\u001b[39m)\n\u001b[1;32m----> 8\u001b[0m ob1\u001b[38;5;241m=\u001b[39m\u001b[43mNasir\u001b[49m\u001b[43m(\u001b[49m\u001b[38;5;124;43m'\u001b[39;49m\u001b[38;5;124;43mshaik\u001b[39;49m\u001b[38;5;124;43m'\u001b[39;49m\u001b[43m,\u001b[49m\u001b[38;5;124;43m'\u001b[39;49m\u001b[38;5;124;43mnasir\u001b[39;49m\u001b[38;5;124;43m'\u001b[39;49m\u001b[43m,\u001b[49m\u001b[38;5;241;43m23\u001b[39;49m\u001b[43m)\u001b[49m\n\u001b[0;32m      9\u001b[0m ob1\u001b[38;5;241m.\u001b[39mstatement()\n",
      "\u001b[1;31mTypeError\u001b[0m: Nasir() takes no arguments"
     ]
    }
   ],
   "source": [
    "class Nasir:\n",
    "    def __init(self,fname,lname,age):\n",
    "        self.fname=fname\n",
    "        self.lname=lname\n",
    "        self.age=age\n",
    "    def statement(self):\n",
    "        print(f\"{self.lname} is grandson of nasir nana\")\n",
    "ob1=Nasir('shaik','nasir',23)\n",
    "ob1.statement()"
   ]
  },
  {
   "cell_type": "code",
   "execution_count": 35,
   "id": "3ebf4ba8",
   "metadata": {
    "scrolled": true
   },
   "outputs": [
    {
     "name": "stdout",
     "output_type": "stream",
     "text": [
      "nasir is grandson of nasir nana\n",
      "hyder is the grand son hyder ke dada\n"
     ]
    }
   ],
   "source": [
    "class Nasir:\n",
    "    def __init__(self,fname,lname,age):\n",
    "        self.fname=fname\n",
    "        self.lname=lname\n",
    "        self.age=age\n",
    "    def statement(self):\n",
    "        print(f\"{self.lname} is grandson of nasir nana\")\n",
    "        print(\"hyder is the grand son hyder ke dada\")\n",
    "ob1=Nasir('shaik','nasir',23)\n",
    "ob1.statement()"
   ]
  },
  {
   "cell_type": "code",
   "execution_count": 19,
   "id": "4ee450a3",
   "metadata": {},
   "outputs": [
    {
     "name": "stdout",
     "output_type": "stream",
     "text": [
      "{'fname': 'shaik', 'lname': 'hyder', 'salary': 40000, 'exp': '6years'}\n"
     ]
    },
    {
     "ename": "AttributeError",
     "evalue": "'Salary' object has no attribute 'details'",
     "output_type": "error",
     "traceback": [
      "\u001b[1;31m---------------------------------------------------------------------------\u001b[0m",
      "\u001b[1;31mAttributeError\u001b[0m                            Traceback (most recent call last)",
      "Cell \u001b[1;32mIn[19], line 14\u001b[0m\n\u001b[0;32m     12\u001b[0m emp1\u001b[38;5;241m=\u001b[39mSalary(\u001b[38;5;124m'\u001b[39m\u001b[38;5;124mshaik\u001b[39m\u001b[38;5;124m'\u001b[39m,\u001b[38;5;124m'\u001b[39m\u001b[38;5;124mhyder\u001b[39m\u001b[38;5;124m'\u001b[39m,\u001b[38;5;241m40000\u001b[39m,\u001b[38;5;124m'\u001b[39m\u001b[38;5;124m6years\u001b[39m\u001b[38;5;124m'\u001b[39m)\n\u001b[0;32m     13\u001b[0m \u001b[38;5;28mprint\u001b[39m(emp1\u001b[38;5;241m.\u001b[39m\u001b[38;5;18m__dict__\u001b[39m)\n\u001b[1;32m---> 14\u001b[0m \u001b[43memp1\u001b[49m\u001b[38;5;241;43m.\u001b[39;49m\u001b[43mdetails\u001b[49m\n",
      "\u001b[1;31mAttributeError\u001b[0m: 'Salary' object has no attribute 'details'"
     ]
    }
   ],
   "source": [
    "class Employee:\n",
    "    def __init__(self,fname,lname,salary):\n",
    "        self.fname=fname\n",
    "        self.lname=lname\n",
    "        self.salary=salary\n",
    "    def detalis(self):\n",
    "        print(f\"the best employee of the company is {self.fane} {self.lname}\")\n",
    "class Salary(Employee):\n",
    "    def __init__(self,fname,lname,salary,exp):\n",
    "        super().__init__(fname,lname,salary)\n",
    "        self.exp=exp\n",
    "emp1=Salary('shaik','hyder',40000,'6years')\n",
    "print(emp1.__dict__)\n",
    "emp1.details"
   ]
  },
  {
   "cell_type": "code",
   "execution_count": 38,
   "id": "d001e888",
   "metadata": {},
   "outputs": [
    {
     "name": "stdout",
     "output_type": "stream",
     "text": [
      "nasir is a grand son of nasir nana\n",
      "{'fname': 'nasir', 'lname': 'shaik', 'gender': 'female'}\n"
     ]
    }
   ],
   "source": [
    "class Nasir:\n",
    "    def __init__(self,fname,lname,gender):\n",
    "        self.fname=fname\n",
    "        self.lname=lname\n",
    "        self.gender=gender\n",
    "    def statement(self):\n",
    "        print(f\"{self.fname} is a grand son of nasir nana\")\n",
    "ob1=Nasir('nasir','shaik','female')\n",
    "ob1.statement()\n",
    "print(ob1.__dict__)"
   ]
  },
  {
   "cell_type": "code",
   "execution_count": 24,
   "id": "a90dd344",
   "metadata": {},
   "outputs": [
    {
     "name": "stdout",
     "output_type": "stream",
     "text": [
      "{'fname': 'shaik', 'lname': 'hyder', 'salary': 40000, 'exp': '6years'}\n"
     ]
    },
    {
     "ename": "AttributeError",
     "evalue": "'Salary' object has no attribute 'Employee'",
     "output_type": "error",
     "traceback": [
      "\u001b[1;31m---------------------------------------------------------------------------\u001b[0m",
      "\u001b[1;31mAttributeError\u001b[0m                            Traceback (most recent call last)",
      "Cell \u001b[1;32mIn[24], line 14\u001b[0m\n\u001b[0;32m     12\u001b[0m emp1\u001b[38;5;241m=\u001b[39mSalary(\u001b[38;5;124m'\u001b[39m\u001b[38;5;124mshaik\u001b[39m\u001b[38;5;124m'\u001b[39m,\u001b[38;5;124m'\u001b[39m\u001b[38;5;124mhyder\u001b[39m\u001b[38;5;124m'\u001b[39m,\u001b[38;5;241m40000\u001b[39m,\u001b[38;5;124m'\u001b[39m\u001b[38;5;124m6years\u001b[39m\u001b[38;5;124m'\u001b[39m)\n\u001b[0;32m     13\u001b[0m \u001b[38;5;28mprint\u001b[39m(emp1\u001b[38;5;241m.\u001b[39m\u001b[38;5;18m__dict__\u001b[39m)\n\u001b[1;32m---> 14\u001b[0m \u001b[43memp1\u001b[49m\u001b[38;5;241;43m.\u001b[39;49m\u001b[43mEmployee\u001b[49m()\n",
      "\u001b[1;31mAttributeError\u001b[0m: 'Salary' object has no attribute 'Employee'"
     ]
    }
   ],
   "source": [
    "class Employee:\n",
    "    def __init__(self,fname,lname,salary):\n",
    "        self.fname=fname\n",
    "        self.lname=lname\n",
    "        self.salary=salary\n",
    "    def detalis(self):\n",
    "        print(f\"the best employee of the company is {self.fane} {self.lname}\")\n",
    "class Salary(Employee):\n",
    "    def __init__(self,fname,lname,salary,exp):\n",
    "        super().__init__(fname,lname,salary)\n",
    "        self.exp=exp\n",
    "emp1=Salary('shaik','hyder',40000,'6years')\n",
    "print(emp1.__dict__)\n",
    "emp1.Employee()\n"
   ]
  },
  {
   "cell_type": "code",
   "execution_count": 33,
   "id": "deea8f8a",
   "metadata": {},
   "outputs": [
    {
     "name": "stdout",
     "output_type": "stream",
     "text": [
      "the best employee of the company is shaik hyder\n",
      "the best employee of the company is shaik ali\n"
     ]
    }
   ],
   "source": [
    "class Employee:\n",
    "    def __init__(self,fname,lname,salary):\n",
    "        self.fname=fname\n",
    "        self.lname=lname\n",
    "        self.salary=salary\n",
    "class Salary(Employee):\n",
    "    def __init__(self,fname,lname,salary,exp):\n",
    "        super().__init__(fname,lname,salary)\n",
    "        self.exp=exp\n",
    "    def detalis(self):\n",
    "        print(f\"the best employee of the company is {self.fname} {self.lname}\")\n",
    "emp1=Salary('shaik','hyder',40000,'6years')\n",
    "emp1.detalis()\n",
    "emp2=Salary('shaik','ali',50000,'7years')\n",
    "emp2.detalis()\n"
   ]
  },
  {
   "cell_type": "code",
   "execution_count": 39,
   "id": "0739a435",
   "metadata": {},
   "outputs": [
    {
     "ename": "AttributeError",
     "evalue": "'super' object has no attribute '_Bhoom__init'",
     "output_type": "error",
     "traceback": [
      "\u001b[1;31m---------------------------------------------------------------------------\u001b[0m",
      "\u001b[1;31mAttributeError\u001b[0m                            Traceback (most recent call last)",
      "Cell \u001b[1;32mIn[39], line 19\u001b[0m\n\u001b[0;32m     17\u001b[0m     \u001b[38;5;28;01mdef\u001b[39;00m \u001b[38;5;21mstatement5\u001b[39m(\u001b[38;5;28mself\u001b[39m):\n\u001b[0;32m     18\u001b[0m         \u001b[38;5;28mprint\u001b[39m(\u001b[38;5;124mf\u001b[39m\u001b[38;5;124m\"\u001b[39m\u001b[38;5;132;01m{\u001b[39;00m\u001b[38;5;28mself\u001b[39m\u001b[38;5;241m.\u001b[39mfname\u001b[38;5;132;01m}\u001b[39;00m\u001b[38;5;124m is tube tube tube light\u001b[39m\u001b[38;5;124m\"\u001b[39m)\n\u001b[1;32m---> 19\u001b[0m ob1\u001b[38;5;241m=\u001b[39m\u001b[43mBhoom\u001b[49m\u001b[43m(\u001b[49m\u001b[38;5;124;43m'\u001b[39;49m\u001b[38;5;124;43mhyder\u001b[39;49m\u001b[38;5;124;43m'\u001b[39;49m\u001b[43m,\u001b[49m\u001b[38;5;124;43m'\u001b[39;49m\u001b[38;5;124;43mshaik\u001b[39;49m\u001b[38;5;124;43m'\u001b[39;49m\u001b[43m,\u001b[49m\u001b[38;5;124;43m'\u001b[39;49m\u001b[38;5;124;43mmale\u001b[39;49m\u001b[38;5;124;43m'\u001b[39;49m\u001b[43m)\u001b[49m\n\u001b[0;32m     20\u001b[0m ob1\u001b[38;5;241m.\u001b[39mstatement()\n\u001b[0;32m     21\u001b[0m ob2\u001b[38;5;241m=\u001b[39mBhoom(\u001b[38;5;124m'\u001b[39m\u001b[38;5;124mnasir\u001b[39m\u001b[38;5;124m'\u001b[39m,\u001b[38;5;124m'\u001b[39m\u001b[38;5;124mshaik\u001b[39m\u001b[38;5;124m'\u001b[39m,\u001b[38;5;124m'\u001b[39m\u001b[38;5;124mfemale\u001b[39m\u001b[38;5;124m'\u001b[39m)\n",
      "Cell \u001b[1;32mIn[39], line 7\u001b[0m, in \u001b[0;36mBhoom.__init__\u001b[1;34m(self, fname, lname, gender)\u001b[0m\n\u001b[0;32m      6\u001b[0m \u001b[38;5;28;01mdef\u001b[39;00m \u001b[38;5;21m__init__\u001b[39m(\u001b[38;5;28mself\u001b[39m,fname,lname,gender):\n\u001b[1;32m----> 7\u001b[0m     \u001b[38;5;28;43msuper\u001b[39;49m\u001b[43m(\u001b[49m\u001b[43m)\u001b[49m\u001b[38;5;241;43m.\u001b[39;49m\u001b[43m__init\u001b[49m(fname,lname)\n\u001b[0;32m      8\u001b[0m     \u001b[38;5;28mself\u001b[39m\u001b[38;5;241m.\u001b[39mgender\u001b[38;5;241m=\u001b[39mgender\n",
      "\u001b[1;31mAttributeError\u001b[0m: 'super' object has no attribute '_Bhoom__init'"
     ]
    }
   ],
   "source": [
    "class Friends:\n",
    "    def __init__(self,fname,lname):\n",
    "        self.fname=fname\n",
    "        self.lname=lname\n",
    "class Bhoom(Friends):\n",
    "    def __init__(self,fname,lname,gender):\n",
    "        super().__init(fname,lname)\n",
    "        self.gender=gender\n",
    "    def statement(self):\n",
    "        print(f\"{self.fname} is good boy\")\n",
    "    def statement2(self):\n",
    "        print(f\"{self.fname} is a chammak challo\")\n",
    "    def statement3(self):\n",
    "        print(f\"{self.fname} is a gundu raja\")\n",
    "    def statement4(self):\n",
    "        print(f\"{self.fname} is a led light\")\n",
    "    def statement5(self):\n",
    "        print(f\"{self.fname} is tube tube tube light\")\n",
    "ob1=Bhoom('hyder','shaik','male')\n",
    "ob1.statement()\n",
    "ob2=Bhoom('nasir','shaik','female')\n",
    "ob2.statement2()\n",
    "ob3=Bhoom('mahir','shaik','male')\n",
    "ob3.statement3()\n",
    "ob4=Bhoom('nafeesa','pinjeri','female')\n",
    "ob4.statement4()\n",
    "ob5=Bhoom('khamar','tapal','female')\n",
    "ob5.statement5()"
   ]
  },
  {
   "cell_type": "code",
   "execution_count": 40,
   "id": "5c9438a8",
   "metadata": {},
   "outputs": [
    {
     "name": "stdout",
     "output_type": "stream",
     "text": [
      "hyder is good boy\n",
      "nasir is a chammak challo\n",
      "mahir is a gundu raja\n",
      "nafeesa is a led light\n",
      "khamar is tube tube tube light\n"
     ]
    }
   ],
   "source": [
    "class Friends:\n",
    "    def __init__(self,fname,lname):\n",
    "        self.fname=fname\n",
    "        self.lname=lname\n",
    "class Bhoom(Friends):\n",
    "    def __init__(self,fname,lname,gender):\n",
    "        super().__init__(fname,lname)\n",
    "        self.gender=gender\n",
    "    def statement(self):\n",
    "        print(f\"{self.fname} is good boy\")\n",
    "    def statement2(self):\n",
    "        print(f\"{self.fname} is a chammak challo\")\n",
    "    def statement3(self):\n",
    "        print(f\"{self.fname} is a gundu raja\")\n",
    "    def statement4(self):\n",
    "        print(f\"{self.fname} is a led light\")\n",
    "    def statement5(self):\n",
    "        print(f\"{self.fname} is tube tube tube light\")\n",
    "ob1=Bhoom('hyder','shaik','male')\n",
    "ob1.statement()\n",
    "ob2=Bhoom('nasir','shaik','female')\n",
    "ob2.statement2()\n",
    "ob3=Bhoom('mahir','shaik','male')\n",
    "ob3.statement3()\n",
    "ob4=Bhoom('nafeesa','pinjeri','female')\n",
    "ob4.statement4()\n",
    "ob5=Bhoom('khamar','tapal','female')\n",
    "ob5.statement5()"
   ]
  },
  {
   "cell_type": "code",
   "execution_count": null,
   "id": "fec46f9a",
   "metadata": {},
   "outputs": [],
   "source": []
  }
 ],
 "metadata": {
  "kernelspec": {
   "display_name": "Python 3 (ipykernel)",
   "language": "python",
   "name": "python3"
  },
  "language_info": {
   "codemirror_mode": {
    "name": "ipython",
    "version": 3
   },
   "file_extension": ".py",
   "mimetype": "text/x-python",
   "name": "python",
   "nbconvert_exporter": "python",
   "pygments_lexer": "ipython3",
   "version": "3.10.10"
  }
 },
 "nbformat": 4,
 "nbformat_minor": 5
}
