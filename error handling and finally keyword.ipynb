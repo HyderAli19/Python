{
 "cells": [
  {
   "cell_type": "code",
   "execution_count": 4,
   "id": "f5be2077",
   "metadata": {},
   "outputs": [
    {
     "name": "stdout",
     "output_type": "stream",
     "text": [
      "enter a number:5\n",
      "index error occured\n"
     ]
    }
   ],
   "source": [
    "#error handling\n",
    "try:\n",
    "    num=int(input(\"enter a number:\"))\n",
    "    a=[1,2,3,4,6]\n",
    "    print(a[num])\n",
    "except IndexError:\n",
    "    print(\"index error occured\")\n",
    "except ValueError:\n",
    "    print(\"enter value is not integer\")\n",
    "    "
   ]
  },
  {
   "cell_type": "code",
   "execution_count": 11,
   "id": "c1af7f69",
   "metadata": {},
   "outputs": [
    {
     "ename": "SyntaxError",
     "evalue": "invalid syntax. Perhaps you forgot a comma? (2663781483.py, line 4)",
     "output_type": "error",
     "traceback": [
      "\u001b[1;36m  Cell \u001b[1;32mIn[11], line 4\u001b[1;36m\u001b[0m\n\u001b[1;33m    print(l[])\u001b[0m\n\u001b[1;37m          ^\u001b[0m\n\u001b[1;31mSyntaxError\u001b[0m\u001b[1;31m:\u001b[0m invalid syntax. Perhaps you forgot a comma?\n"
     ]
    }
   ],
   "source": [
    "try:\n",
    "    l=[1,2,3,4,5,5]\n",
    "    i=int(input(\"enter index value:\"))\n",
    "    print(l[])\n",
    "except valueerror:\n",
    "    print(\"int value occur\")\n",
    "except indexerror:\n",
    "    print(\"index error occured\")"
   ]
  },
  {
   "cell_type": "code",
   "execution_count": 12,
   "id": "f752887f",
   "metadata": {},
   "outputs": [
    {
     "ename": "SyntaxError",
     "evalue": "invalid syntax. Perhaps you forgot a comma? (3639545251.py, line 4)",
     "output_type": "error",
     "traceback": [
      "\u001b[1;36m  Cell \u001b[1;32mIn[12], line 4\u001b[1;36m\u001b[0m\n\u001b[1;33m    print(l[])\u001b[0m\n\u001b[1;37m          ^\u001b[0m\n\u001b[1;31mSyntaxError\u001b[0m\u001b[1;31m:\u001b[0m invalid syntax. Perhaps you forgot a comma?\n"
     ]
    }
   ],
   "source": [
    "try:\n",
    "    l=[1,2,3,4,5,5]\n",
    "    i=int(input(\"enter index value:\"))\n",
    "    print(l[])\n",
    "except:\n",
    "    print(\"some error occured\")"
   ]
  },
  {
   "cell_type": "code",
   "execution_count": 13,
   "id": "72fcc6c4",
   "metadata": {},
   "outputs": [
    {
     "name": "stdout",
     "output_type": "stream",
     "text": [
      "enter index value:5\n",
      "5\n"
     ]
    }
   ],
   "source": [
    "try:\n",
    "    l=[1,2,3,4,5,5]\n",
    "    i=int(input(\"enter index value:\"))\n",
    "    print(l[i])\n",
    "except:\n",
    "    print(\"some error occured\")"
   ]
  },
  {
   "cell_type": "code",
   "execution_count": 14,
   "id": "69c00205",
   "metadata": {},
   "outputs": [
    {
     "name": "stdout",
     "output_type": "stream",
     "text": [
      "enter index value:9\n",
      "some error occured\n"
     ]
    }
   ],
   "source": [
    "try:\n",
    "    l=[1,2,3,4,5,5]\n",
    "    i=int(input(\"enter index value:\"))\n",
    "    print(l[i])\n",
    "except:\n",
    "    print(\"some error occured\")"
   ]
  },
  {
   "cell_type": "code",
   "execution_count": 15,
   "id": "8ebdb891",
   "metadata": {},
   "outputs": [
    {
     "name": "stdout",
     "output_type": "stream",
     "text": [
      "enter index value:5\n",
      "5\n",
      "i always occured\n"
     ]
    }
   ],
   "source": [
    "#finally keyword\n",
    "try:\n",
    "    l=[1,2,3,4,5,5]\n",
    "    i=int(input(\"enter index value:\"))\n",
    "    print(l[i])\n",
    "except:\n",
    "    print(\"some error occured\")\n",
    "finally:\n",
    "    print(\"i always occured\")"
   ]
  },
  {
   "cell_type": "code",
   "execution_count": 16,
   "id": "3e42e955",
   "metadata": {},
   "outputs": [
    {
     "ename": "SyntaxError",
     "evalue": "invalid syntax (1572429020.py, line 1)",
     "output_type": "error",
     "traceback": [
      "\u001b[1;36m  Cell \u001b[1;32mIn[16], line 1\u001b[1;36m\u001b[0m\n\u001b[1;33m    def fun\u001b[0m\n\u001b[1;37m           ^\u001b[0m\n\u001b[1;31mSyntaxError\u001b[0m\u001b[1;31m:\u001b[0m invalid syntax\n"
     ]
    }
   ],
   "source": [
    "def fun\n",
    "try:\n",
    "    l=[1,4,2,5,6,8,9]\n",
    "    i=int(input(\"enter a index number\"))\n",
    "    print(l[i])\n",
    "    return 1\n",
    "except:\n",
    "    print(\"some error occured\")\n",
    "     return 0\n",
    "finally:\n",
    "    print(\"i am always ready to play games\")\n",
    "\n",
    "   "
   ]
  },
  {
   "cell_type": "code",
   "execution_count": 17,
   "id": "eb7af96b",
   "metadata": {},
   "outputs": [
    {
     "ename": "SyntaxError",
     "evalue": "expected ':' (278323497.py, line 1)",
     "output_type": "error",
     "traceback": [
      "\u001b[1;36m  Cell \u001b[1;32mIn[17], line 1\u001b[1;36m\u001b[0m\n\u001b[1;33m    def fun()\u001b[0m\n\u001b[1;37m             ^\u001b[0m\n\u001b[1;31mSyntaxError\u001b[0m\u001b[1;31m:\u001b[0m expected ':'\n"
     ]
    }
   ],
   "source": [
    "def fun()\n",
    "try:\n",
    "    l=[1,4,2,5,6,8,9]\n",
    "    i=int(input(\"enter a index number\"))\n",
    "    print(l[i])\n",
    "    return 1\n",
    "except:\n",
    "    print(\"some error occured\")\n",
    "     return 0\n",
    "finally:\n",
    "    print(\"i am always ready to play games\")\n",
    "\n",
    "   "
   ]
  },
  {
   "cell_type": "code",
   "execution_count": 20,
   "id": "df0c53ea",
   "metadata": {},
   "outputs": [
    {
     "ename": "IndentationError",
     "evalue": "unexpected indent (2926642138.py, line 5)",
     "output_type": "error",
     "traceback": [
      "\u001b[1;36m  Cell \u001b[1;32mIn[20], line 5\u001b[1;36m\u001b[0m\n\u001b[1;33m    print(l[i])\u001b[0m\n\u001b[1;37m    ^\u001b[0m\n\u001b[1;31mIndentationError\u001b[0m\u001b[1;31m:\u001b[0m unexpected indent\n"
     ]
    }
   ],
   "source": [
    "def fun():\n",
    "    try:\n",
    "        l=[1,4,2,5,6,8,9]\n",
    "        i=int(input(\"enter a index number\"))\n",
    "            print(l[i])\n",
    "            return 1\n",
    "    except:\n",
    "        print(\"some error occured\")\n",
    "         return 0\n",
    "    finally:\n",
    "        print(\"i am always ready to play games\")\n",
    "\n",
    "   "
   ]
  },
  {
   "cell_type": "code",
   "execution_count": 6,
   "id": "5f04e78f",
   "metadata": {},
   "outputs": [
    {
     "name": "stdout",
     "output_type": "stream",
     "text": [
      "enter a index number:9\n",
      "index out of range\n",
      "i am always ready to play games\n",
      "0\n"
     ]
    }
   ],
   "source": [
    "def fun():\n",
    "    try:\n",
    "        l=[2,3,4,5,6,8,8]\n",
    "        i=int(input(\"enter a index number:\"))\n",
    "        print(l[i])\n",
    "        return 1\n",
    "    except:\n",
    "        print(\"index out of range\")\n",
    "        return 0\n",
    "    finally:\n",
    "        print(\"i am always ready to play games\")\n",
    "x = fun()\n",
    "print(x)"
   ]
  },
  {
   "cell_type": "code",
   "execution_count": 7,
   "id": "4d28fae0",
   "metadata": {},
   "outputs": [
    {
     "name": "stdout",
     "output_type": "stream",
     "text": [
      "enter a index number:5\n",
      "8\n",
      "i am always ready to play games\n",
      "1\n"
     ]
    }
   ],
   "source": [
    "def fun():\n",
    "    try:\n",
    "        l=[2,3,4,5,6,8,8]\n",
    "        i=int(input(\"enter a index number:\"))\n",
    "        print(l[i])\n",
    "        return 1\n",
    "    except:\n",
    "        print(\"index out of range\")\n",
    "        return 0\n",
    "    finally:\n",
    "        print(\"i am always ready to play games\")\n",
    "x = fun()\n",
    "print(x)"
   ]
  },
  {
   "cell_type": "code",
   "execution_count": 8,
   "id": "577e4ebc",
   "metadata": {},
   "outputs": [
    {
     "name": "stdout",
     "output_type": "stream",
     "text": [
      "enter a index number:4\n",
      "6\n",
      "i am always ready to play games\n",
      "1\n"
     ]
    }
   ],
   "source": [
    "def fun():\n",
    "    try:\n",
    "        l=[2,3,4,5,6,8,8]\n",
    "        i=int(input(\"enter a index number:\"))\n",
    "        print(l[i])\n",
    "        return 1\n",
    "    except:\n",
    "        print(\"index out of range\")\n",
    "        return 0\n",
    "    finally:\n",
    "        print(\"i am always ready to play games\")\n",
    "x = fun()\n",
    "print(x)"
   ]
  },
  {
   "cell_type": "code",
   "execution_count": 9,
   "id": "3f383cbb",
   "metadata": {},
   "outputs": [],
   "source": [
    "#the 1 in output indicates no of values in the we got..........\n"
   ]
  },
  {
   "cell_type": "code",
   "execution_count": 10,
   "id": "fc00ce7f",
   "metadata": {},
   "outputs": [
    {
     "name": "stdout",
     "output_type": "stream",
     "text": [
      "{'name': 'hyder', 'rollno': 19, 'age': 1, 'address': {'dno': 0.05333333333333334, 'street': 'padmategeri mainbazar', 'town': 'tadipatri', 'contacts': {'phn': 9441596988, 'email': 'hyderalishail407@gamil.com'}}}\n"
     ]
    }
   ],
   "source": [
    "my_d: dict = {\n",
    "    'name':'hyder',\n",
    "    'rollno':19,\n",
    "    'age':1,\n",
    "    'address':{\n",
    "        'dno':12/225,\n",
    "        'street':'padmategeri mainbazar',\n",
    "        'town':'tadipatri',\n",
    "        'contacts': {\n",
    "            'phn':9441596988,\n",
    "            'email':'hyderalishail407@gamil.com'\n",
    "        }\n",
    "    }\n",
    "}\n",
    "print(my_d)"
   ]
  },
  {
   "cell_type": "code",
   "execution_count": 15,
   "id": "82c20198",
   "metadata": {},
   "outputs": [
    {
     "name": "stdout",
     "output_type": "stream",
     "text": [
      "{'address': {'contacts': {'email': 'hyderalishail407@gamil.com',\n",
      "                          'phn': 9441596988},\n",
      "             'dno': 0.05333333333333334,\n",
      "             'street': 'padmategeri mainbazar',\n",
      "             'town': 'tadipatri'},\n",
      " 'age': 1,\n",
      " 'name': 'hyder',\n",
      " 'rollno': 19}\n"
     ]
    }
   ],
   "source": [
    "from pprint import pprint\n",
    "my_d: dict = {\n",
    "    'name':'hyder',\n",
    "    'rollno':19,\n",
    "    'age':1,\n",
    "    'address':{\n",
    "        'dno':12/225,\n",
    "        'street':'padmategeri mainbazar',\n",
    "        'town':'tadipatri',\n",
    "        'contacts': {\n",
    "            'phn':9441596988,\n",
    "            'email':'hyderalishail407@gamil.com'\n",
    "        }\n",
    "    }\n",
    "}\n",
    "pprint(my_d)"
   ]
  },
  {
   "cell_type": "code",
   "execution_count": null,
   "id": "2add0e48",
   "metadata": {},
   "outputs": [],
   "source": []
  }
 ],
 "metadata": {
  "kernelspec": {
   "display_name": "Python 3 (ipykernel)",
   "language": "python",
   "name": "python3"
  },
  "language_info": {
   "codemirror_mode": {
    "name": "ipython",
    "version": 3
   },
   "file_extension": ".py",
   "mimetype": "text/x-python",
   "name": "python",
   "nbconvert_exporter": "python",
   "pygments_lexer": "ipython3",
   "version": "3.10.10"
  }
 },
 "nbformat": 4,
 "nbformat_minor": 5
}
